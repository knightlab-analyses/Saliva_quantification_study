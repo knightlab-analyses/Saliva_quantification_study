{
 "cells": [
  {
   "cell_type": "code",
   "execution_count": 1,
   "metadata": {},
   "outputs": [],
   "source": [
    "import pandas as pd\n",
    "import numpy as np\n",
    "import matplotlib.pyplot as plt\n",
    "%matplotlib inline\n",
    "import seaborn as sns"
   ]
  },
  {
   "cell_type": "markdown",
   "metadata": {},
   "source": [
    "# Import and process data"
   ]
  },
  {
   "cell_type": "code",
   "execution_count": 2,
   "metadata": {},
   "outputs": [],
   "source": [
    "# import data\n",
    "dil = pd.read_csv('../data/SuppFig1_flow_counts.csv')\n",
    "# subset out CFU data and flow cytometry data\n",
    "cfu = dil[dil['type']=='CFU']\n",
    "flow = dil[dil['type']!='CFU']"
   ]
  },
  {
   "cell_type": "code",
   "execution_count": 3,
   "metadata": {},
   "outputs": [],
   "source": [
    "# subset out live versus dead, and raw vs PMA treated samples in the flow cytometry data\n",
    "LR = flow[flow['type_processing']=='live.raw']\n",
    "LP = flow[flow['type_processing']=='live.PMA']\n",
    "HR = flow[flow['type_processing']=='heat.raw']\n",
    "HP = flow[flow['type_processing']=='heat.PMA']"
   ]
  },
  {
   "cell_type": "code",
   "execution_count": 4,
   "metadata": {},
   "outputs": [],
   "source": [
    "# subset out live versus dead in the CFU data\n",
    "Lcfu = cfu[cfu['type_processing']=='live.CFU']\n",
    "Hcfu = cfu[cfu['type_processing']=='heat.CFU']"
   ]
  },
  {
   "cell_type": "markdown",
   "metadata": {},
   "source": [
    "## Plot dilution factor by microbial load estimated by flow cytometry and CFU in log-phase culture"
   ]
  },
  {
   "cell_type": "code",
   "execution_count": 5,
   "metadata": {
    "scrolled": true
   },
   "outputs": [
    {
     "name": "stderr",
     "output_type": "stream",
     "text": [
      "/Users/lisamarotz/miniconda2/envs/qiime2-2019.10/lib/python3.6/site-packages/ipykernel_launcher.py:17: MatplotlibDeprecationWarning: Adding an axes using the same arguments as a previous axes currently reuses the earlier instance.  In a future version, a new instance will always be created and returned.  Meanwhile, this warning can be suppressed, and the future behavior ensured, by passing a unique label to each axes instance.\n"
     ]
    },
    {
     "data": {
      "text/plain": [
       "Text(0.5, 0, 'dilution factor')"
      ]
     },
     "execution_count": 5,
     "metadata": {},
     "output_type": "execute_result"
    },
    {
     "data": {
      "image/png": "[encoded data removed]",
      "text/plain": [
       "<Figure size 432x288 with 1 Axes>"
      ]
     },
     "metadata": {
      "needs_background": "light"
     },
     "output_type": "display_data"
    }
   ],
   "source": [
    "# plot lines\n",
    "plt.plot(LR[\"dilution\"], LR[\"average_cell_per_ul\"], 'orange', linestyle='solid')\n",
    "plt.plot(LP[\"dilution\"], LP[\"average_cell_per_ul\"], 'red', linestyle='solid')\n",
    "\n",
    "#plot points\n",
    "plt.scatter(x=\"dilution\", y=\"average_cell_per_ul\", data=LR, c='orange', linewidth='5')\n",
    "plt.scatter(x=\"dilution\", y=\"average_cell_per_ul\", data=LP, c='red', linewidth='5')\n",
    "\n",
    "# plot CFU data\n",
    "plt.scatter(x=\"dilution\", y=\"average_cell_per_ul\", data=Lcfu, c='blue', marker=\"*\", s=500)\n",
    "plt.xscale(\"log\")\n",
    "plt.yscale(\"log\")\n",
    "\n",
    "# set axis limits and labels\n",
    "plt.xlim(50,200000)\n",
    "plt.ylim(.1,100000)\n",
    "plt.axes().set_aspect(aspect=0.6)\n",
    "plt.ylabel('estimated cells/ul')\n",
    "plt.xlabel('dilution factor')"
   ]
  },
  {
   "cell_type": "markdown",
   "metadata": {},
   "source": [
    "## Plot dilution factor by microbial load estimated by flow cytometry and CFU in heat-killed log-phase culture"
   ]
  },
  {
   "cell_type": "code",
   "execution_count": 6,
   "metadata": {
    "scrolled": true
   },
   "outputs": [
    {
     "name": "stderr",
     "output_type": "stream",
     "text": [
      "/Users/lisamarotz/miniconda2/envs/qiime2-2019.10/lib/python3.6/site-packages/ipykernel_launcher.py:17: MatplotlibDeprecationWarning: Adding an axes using the same arguments as a previous axes currently reuses the earlier instance.  In a future version, a new instance will always be created and returned.  Meanwhile, this warning can be suppressed, and the future behavior ensured, by passing a unique label to each axes instance.\n"
     ]
    },
    {
     "data": {
      "text/plain": [
       "Text(0.5, 0, 'dilution factor')"
      ]
     },
     "execution_count": 6,
     "metadata": {},
     "output_type": "execute_result"
    },
    {
     "data": {
      "image/png": "[encoded data removed]",
      "text/plain": [
       "<Figure size 432x288 with 1 Axes>"
      ]
     },
     "metadata": {
      "needs_background": "light"
     },
     "output_type": "display_data"
    }
   ],
   "source": [
    "# plot lines\n",
    "plt.plot(HR[\"dilution\"], HR[\"average_cell_per_ul\"], 'orange', linestyle='-.')\n",
    "plt.plot(HP[\"dilution\"], HP[\"average_cell_per_ul\"], 'red', linestyle='-.')\n",
    "\n",
    "#plot points\n",
    "plt.scatter(x=\"dilution\", y=\"average_cell_per_ul\", data=HR, c='orange', linewidth='5')\n",
    "plt.scatter(x=\"dilution\", y=\"average_cell_per_ul\", data=HP, c='red', linewidth='5')\n",
    "\n",
    "# plot CFU data\n",
    "plt.scatter(x=\"dilution\", y=\"average_cell_per_ul\", data=Hcfu, c='blue', marker=\"*\", s=500)\n",
    "plt.xscale(\"log\")\n",
    "plt.yscale(\"log\")\n",
    "\n",
    "# set axis limits and labels\n",
    "plt.xlim(50,200000)\n",
    "plt.ylim(.1,100000)\n",
    "plt.axes().set_aspect(aspect=0.6)\n",
    "plt.ylabel('estimated cells/ul')\n",
    "plt.xlabel('dilution factor')"
   ]
  },
  {
   "cell_type": "code",
   "execution_count": null,
   "metadata": {},
   "outputs": [],
   "source": []
  }
 ],
 "metadata": {
  "kernelspec": {
   "display_name": "Python 3",
   "language": "python",
   "name": "python3"
  },
  "language_info": {
   "codemirror_mode": {
    "name": "ipython",
    "version": 3
   },
   "file_extension": ".py",
   "mimetype": "text/x-python",
   "name": "python",
   "nbconvert_exporter": "python",
   "pygments_lexer": "ipython3",
   "version": "3.6.7"
  }
 },
 "nbformat": 4,
 "nbformat_minor": 2
}
