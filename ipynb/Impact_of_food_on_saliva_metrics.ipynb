{
 "cells": [
  {
   "cell_type": "code",
   "execution_count": 1,
   "metadata": {},
   "outputs": [],
   "source": [
    "import pandas as pd\n",
    "import numpy as np\n",
    "import seaborn as sns\n",
    "import matplotlib.pyplot as plt\n",
    "%matplotlib inline\n",
    "import scipy\n",
    "from scipy import stats\n",
    "from scipy.stats import ttest_ind"
   ]
  },
  {
   "cell_type": "code",
   "execution_count": 2,
   "metadata": {},
   "outputs": [],
   "source": [
    "# Import data\n",
    "meta = pd.read_csv('T1_SMDS_metadata_ms.txt', sep='\\t', index_col=0)"
   ]
  },
  {
   "cell_type": "markdown",
   "metadata": {},
   "source": [
    "## Evaluate differences in saliva flow rate after eating versus not"
   ]
  },
  {
   "cell_type": "code",
   "execution_count": 3,
   "metadata": {},
   "outputs": [],
   "source": [
    "# subset out samples that were collected following eating versus those that were not\n",
    "ate = meta[meta['food']=='yes']\n",
    "didnot = meta[meta['food']=='no']"
   ]
  },
  {
   "cell_type": "code",
   "execution_count": 4,
   "metadata": {},
   "outputs": [
    {
     "name": "stdout",
     "output_type": "stream",
     "text": [
      "SFR after eating avg: 0.5372222222222223\n",
      "SFR after eating SEM: 0.03875670582706708\n"
     ]
    }
   ],
   "source": [
    "# print average and SEM of saliva flow rate in samples collected after eating\n",
    "print('SFR after eating avg:', ate['saliva_flow_rate_mL_per_min'].mean())\n",
    "print('SFR after eating SEM:', ate['saliva_flow_rate_mL_per_min'].sem())"
   ]
  },
  {
   "cell_type": "code",
   "execution_count": 5,
   "metadata": {},
   "outputs": [
    {
     "name": "stdout",
     "output_type": "stream",
     "text": [
      "SFR not after eating avg: 0.43\n",
      "SFR not after eating SEM: 0.029611625999328754\n"
     ]
    }
   ],
   "source": [
    "# print average and SEM of saliva flow rate in samples not collected after eating\n",
    "print('SFR not after eating avg:', didnot['saliva_flow_rate_mL_per_min'].mean())\n",
    "print('SFR not after eating SEM:', didnot['saliva_flow_rate_mL_per_min'].sem())"
   ]
  },
  {
   "cell_type": "code",
   "execution_count": 6,
   "metadata": {},
   "outputs": [
    {
     "data": {
      "text/plain": [
       "Ttest_indResult(statistic=2.232805418765676, pvalue=0.02683704582229939)"
      ]
     },
     "execution_count": 6,
     "metadata": {},
     "output_type": "execute_result"
    }
   ],
   "source": [
    "# calculate independent T-test between two groups above\n",
    "stats.ttest_ind(ate['saliva_flow_rate_mL_per_min'], didnot['saliva_flow_rate_mL_per_min'])"
   ]
  },
  {
   "cell_type": "markdown",
   "metadata": {},
   "source": [
    "## Evaluate differences in microbial concentration after eating versus not"
   ]
  },
  {
   "cell_type": "code",
   "execution_count": 9,
   "metadata": {},
   "outputs": [],
   "source": [
    "# remove missing values so you can perform statistical tests\n",
    "atec = ate.dropna(subset=['FC_avg_cells_5_min'])\n",
    "didnotc = didnot.dropna(subset=['FC_avg_cells_5_min'])"
   ]
  },
  {
   "cell_type": "code",
   "execution_count": 10,
   "metadata": {},
   "outputs": [],
   "source": [
    "# subset out raw and PMA data from the subset ate and did not eat subsets\n",
    "Ratec = atec[atec['processing']=='raw']\n",
    "Patec = atec[atec['processing']=='PMA']\n",
    "Rdidnotc = didnotc[didnotc['processing']=='raw']\n",
    "Pdidnotc = didnotc[didnotc['processing']=='PMA']"
   ]
  },
  {
   "cell_type": "code",
   "execution_count": 16,
   "metadata": {},
   "outputs": [
    {
     "data": {
      "text/plain": [
       "KruskalResult(statistic=0.4067142008318001, pvalue=0.5236419762727548)"
      ]
     },
     "execution_count": 16,
     "metadata": {},
     "output_type": "execute_result"
    }
   ],
   "source": [
    "# calculate independent T-test between PMA samples collected after eating versus not after eating\n",
    "stats.kruskal(Patec['FC_avg_cells_5_min'], Pdidnotc['FC_avg_cells_5_min'])"
   ]
  },
  {
   "cell_type": "code",
   "execution_count": 15,
   "metadata": {},
   "outputs": [
    {
     "data": {
      "text/plain": [
       "KruskalResult(statistic=0.0018568033273709261, pvalue=0.9656292799047517)"
      ]
     },
     "execution_count": 15,
     "metadata": {},
     "output_type": "execute_result"
    }
   ],
   "source": [
    "# calculate independent T-test between raw samples collected after eating versus not after eating\n",
    "stats.kruskal(Ratec['FC_avg_cells_5_min'], Rdidnotc['FC_avg_cells_5_min'])"
   ]
  },
  {
   "cell_type": "code",
   "execution_count": null,
   "metadata": {},
   "outputs": [],
   "source": []
  },
  {
   "cell_type": "markdown",
   "metadata": {},
   "source": [
    "## Evaluate percentage reads aligning to chloroplasts"
   ]
  },
  {
   "cell_type": "code",
   "execution_count": 34,
   "metadata": {},
   "outputs": [
    {
     "name": "stdout",
     "output_type": "stream",
     "text": [
      "%samples after eating: 0.4861111111111111\n",
      "%samples not after eating: 0.16346153846153846\n"
     ]
    }
   ],
   "source": [
    "# caclulate percentage of samples with reads aligning to choloroplasts\n",
    "print('%samples after eating:', \n",
    "      len(ate[ate['percent_reads_aligning_to_chloroplast_seqeuneces']>0]) / len(ate))\n",
    "print('%samples not after eating:', \n",
    "      len(didnot[didnot['percent_reads_aligning_to_chloroplast_seqeuneces']>0]) / len(didnot))\n"
   ]
  },
  {
   "cell_type": "code",
   "execution_count": 37,
   "metadata": {},
   "outputs": [],
   "source": [
    "POSdidnot = didnot[didnot['percent_reads_aligning_to_chloroplast_seqeuneces']>0]\n",
    "POSate = ate[ate['percent_reads_aligning_to_chloroplast_seqeuneces']>0]"
   ]
  },
  {
   "cell_type": "code",
   "execution_count": 42,
   "metadata": {},
   "outputs": [
    {
     "name": "stdout",
     "output_type": "stream",
     "text": [
      "avg %abu chloroplast after eating: 0.0003530346470588235\n",
      "avg %abu chloroplast not after eating: 0.005973935771428571\n"
     ]
    }
   ],
   "source": [
    "print('avg %abu chloroplast after eating:', POSdidnot['percent_reads_aligning_to_chloroplast_seqeuneces'].mean())\n",
    "print('avg %abu chloroplast not after eating:', POSate['percent_reads_aligning_to_chloroplast_seqeuneces'].mean())"
   ]
  },
  {
   "cell_type": "code",
   "execution_count": null,
   "metadata": {},
   "outputs": [],
   "source": []
  },
  {
   "cell_type": "markdown",
   "metadata": {},
   "source": [
    "## Evaluate differences in chloroplast hits in raw vs PMA-tx samples"
   ]
  },
  {
   "cell_type": "code",
   "execution_count": 50,
   "metadata": {},
   "outputs": [],
   "source": [
    "# subset out PMA and raw samples\n",
    "PMA = meta[meta['processing']=='PMA']\n",
    "raw = meta[meta['processing']=='raw']"
   ]
  },
  {
   "cell_type": "code",
   "execution_count": 51,
   "metadata": {},
   "outputs": [
    {
     "name": "stdout",
     "output_type": "stream",
     "text": [
      "# raw samples with chloroplast hits: 42\n",
      "# PMA samples with chloroplast hits: 10\n"
     ]
    }
   ],
   "source": [
    "print('# raw samples with chloroplast hits:', \n",
    "      len(raw[raw['percent_reads_aligning_to_chloroplast_seqeuneces']>0]))\n",
    "print('# PMA samples with chloroplast hits:', \n",
    "      len(PMA[PMA['percent_reads_aligning_to_chloroplast_seqeuneces']>0]))"
   ]
  },
  {
   "cell_type": "code",
   "execution_count": null,
   "metadata": {},
   "outputs": [],
   "source": []
  }
 ],
 "metadata": {
  "kernelspec": {
   "display_name": "Python 3",
   "language": "python",
   "name": "python3"
  },
  "language_info": {
   "codemirror_mode": {
    "name": "ipython",
    "version": 3
   },
   "file_extension": ".py",
   "mimetype": "text/x-python",
   "name": "python",
   "nbconvert_exporter": "python",
   "pygments_lexer": "ipython3",
   "version": "3.6.7"
  }
 },
 "nbformat": 4,
 "nbformat_minor": 2
}
