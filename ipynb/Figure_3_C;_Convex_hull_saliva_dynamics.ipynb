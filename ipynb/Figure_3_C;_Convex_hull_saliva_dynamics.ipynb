{
 "cells": [
  {
   "cell_type": "code",
   "execution_count": 1,
   "metadata": {},
   "outputs": [],
   "source": [
    "# utils\n",
    "import scipy\n",
    "import skbio\n",
    "import qiime2\n",
    "import itertools\n",
    "import pandas as pd\n",
    "import scipy.stats as ss\n",
    "from qiime2.plugins import diversity, feature_table\n",
    "from scipy.spatial import ConvexHull\n",
    "# plotting\n",
    "import matplotlib\n",
    "import seaborn as sns\n",
    "import matplotlib.pyplot as plt\n",
    "from matplotlib.pyplot import cm\n",
    "from matplotlib.colors import to_hex\n",
    "import pingouin as pg\n",
    "\n",
    "plt.style.use('ggplot')\n",
    "%matplotlib inline"
   ]
  },
  {
   "cell_type": "code",
   "execution_count": 2,
   "metadata": {},
   "outputs": [],
   "source": [
    "# import metadata\n",
    "md = qiime2.Metadata.load('../T1_SMDS_metadata_ms.txt').to_dataframe()\n",
    "# create column that uniquely has participant/prcess (group from which to calculate convex hull)\n",
    "md['participant_process'] = md['participant_id'] + md['processing']"
   ]
  },
  {
   "cell_type": "markdown",
   "metadata": {},
   "source": [
    "### Run convex hull analysis on Unweighted Unifrac plot"
   ]
  },
  {
   "cell_type": "code",
   "execution_count": 12,
   "metadata": {},
   "outputs": [],
   "source": [
    "# import PCoA on which to calculate convex hull\n",
    "subset_pc = qiime2.Artifact.load('../SMDS_unweighted_unifrac_pcoa.qza')    \n",
    "# get ordination results\n",
    "pc = subset_pc.view(skbio.OrdinationResults)"
   ]
  },
  {
   "cell_type": "code",
   "execution_count": 13,
   "metadata": {},
   "outputs": [],
   "source": [
    "# pull out first 3 axes and calculate convex hull by group of interest\n",
    "ndims = 3\n",
    "site_person_ch = []\n",
    "for person, person_grp in md.groupby('participant_process'):\n",
    "    coords = pc.samples.loc[person_grp.index].values[:, :ndims]\n",
    "    ch = ConvexHull(coords)\n",
    "    site_person_ch.append([person, ch.volume, ch.area]) \n",
    "\n",
    "site_person_ch = pd.DataFrame(site_person_ch, \n",
    "                              columns=['participant_process', 'convexhull_volume', 'convexhull_area'])\n"
   ]
  },
  {
   "cell_type": "code",
   "execution_count": 14,
   "metadata": {},
   "outputs": [
    {
     "data": {
      "text/plain": [
       "Index(['participant_process', 'convexhull_volume', 'convexhull_area',\n",
       "       'study_acronym', 'experiment_name', 'participant_id', 'saliva_weight_g',\n",
       "       'saliva_volume_mL_collected_in_5_min', 'saliva_flow_rate_mL_per_min',\n",
       "       'FC_cells_per_ul_r1', 'FC_cells_per_ul_r2', 'FC_avg_cells_per_ul',\n",
       "       'FC_avg_cells_5_min', 'processing', 'collection_time_stamp', 'gender',\n",
       "       'age', 'saliva_sample_ID', 'timepoint', 'mouthwash_regularly?',\n",
       "       'qPCR_median_16S_copies_per_2ul_DNA', 'alcohol_since_last_sample',\n",
       "       'misc-notes', 'food', 'food notes', 'drink notes',\n",
       "       'self_reported_min_brushing', 'floss_regularly?', 'toothbrush_type',\n",
       "       'percent_reads_aligning_to_chloroplast_seqeuneces'],\n",
       "      dtype='object')"
      ]
     },
     "execution_count": 14,
     "metadata": {},
     "output_type": "execute_result"
    }
   ],
   "source": [
    "# merge volume results with metadata\n",
    "md_20 = md.drop_duplicates(subset=['participant_process'])\n",
    "ch = pd.merge(site_person_ch, md_20, left_on='participant_process', right_on='participant_process', how='left')\n",
    "ch.columns"
   ]
  },
  {
   "cell_type": "code",
   "execution_count": 15,
   "metadata": {},
   "outputs": [
    {
     "data": {
      "text/plain": [
       "(0.0, 0.11)"
      ]
     },
     "execution_count": 15,
     "metadata": {},
     "output_type": "execute_result"
    },
    {
     "data": {
      "image/png": "[encoded data removed]",
      "text/plain": [
       "<Figure size 216x432 with 1 Axes>"
      ]
     },
     "metadata": {},
     "output_type": "display_data"
    }
   ],
   "source": [
    "order = ['raw','PMA']\n",
    "sns.set_style('white')\n",
    "sns.set_context('talk')\n",
    "fig, ax = plt.subplots(figsize=(3,6))\n",
    "sns.boxplot(y='convexhull_area',x='processing', data=ch, ax=ax, order=order, notch=False,\n",
    "            palette=['#FF8300','#6A0DAD'], boxprops=dict(alpha=.8))\n",
    "sns.stripplot(y='convexhull_area',x='processing', data=ch, color='.25', size=8, ax=ax, order=order)\n",
    "ax.set_ylabel('Unweighted UniFrac convex hull volume')\n",
    "ax.set_ylim(0,0.11)"
   ]
  },
  {
   "cell_type": "code",
   "execution_count": 10,
   "metadata": {},
   "outputs": [],
   "source": [
    "#fig.savefig('../../figures/convex_hull.png', bbox_inches='tight', dpi=500)"
   ]
  },
  {
   "cell_type": "code",
   "execution_count": 11,
   "metadata": {},
   "outputs": [
    {
     "data": {
      "text/plain": [
       "Ttest_relResult(statistic=2.5194429087758587, pvalue=0.03279861706706853)"
      ]
     },
     "execution_count": 11,
     "metadata": {},
     "output_type": "execute_result"
    }
   ],
   "source": [
    "# calculate paired t-test statistic\n",
    "pma = ch[ch['processing']=='PMA'].convexhull_volume\n",
    "raw = ch[ch['processing']=='raw'].convexhull_volume\n",
    "ss.ttest_rel(pma, raw)"
   ]
  },
  {
   "cell_type": "code",
   "execution_count": null,
   "metadata": {},
   "outputs": [],
   "source": []
  },
  {
   "cell_type": "code",
   "execution_count": null,
   "metadata": {},
   "outputs": [],
   "source": []
  }
 ],
 "metadata": {
  "kernelspec": {
   "display_name": "Python 3",
   "language": "python",
   "name": "python3"
  },
  "language_info": {
   "codemirror_mode": {
    "name": "ipython",
    "version": 3
   },
   "file_extension": ".py",
   "mimetype": "text/x-python",
   "name": "python",
   "nbconvert_exporter": "python",
   "pygments_lexer": "ipython3",
   "version": "3.6.11"
  }
 },
 "nbformat": 4,
 "nbformat_minor": 2
}
