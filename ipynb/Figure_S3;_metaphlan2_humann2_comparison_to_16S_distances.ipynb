{
 "cells": [
  {
   "cell_type": "code",
   "execution_count": 15,
   "metadata": {},
   "outputs": [],
   "source": [
    "import numpy as np\n",
    "import pandas as pd\n",
    "import seaborn as sns\n",
    "import scipy\n",
    "from scipy import stats\n",
    "import matplotlib.pyplot as plt\n",
    "%matplotlib inline\n",
    "from scipy.stats import ttest_ind\n",
    "from perm_test import pw_perm_kruskal_test\n",
    "from statsmodels.stats.multitest import multipletests"
   ]
  },
  {
   "cell_type": "markdown",
   "metadata": {},
   "source": [
    "## Import data"
   ]
  },
  {
   "cell_type": "code",
   "execution_count": 2,
   "metadata": {},
   "outputs": [],
   "source": [
    "#import 16S Aitchison distance matrix \n",
    "amp = pd.read_csv('../data/SMDS_aitchison_distance_matrix.tsv', sep='\\t', index_col=0)\n",
    "# import metaphlan2 Aitchison distance matrix \n",
    "mp = pd.read_csv('../data/SMDS_metaphlan2_species_noblanks_aitchison_dm.tsv', sep='\\t', index_col=0)\n",
    "# import humann2 Aitchison distance matrix \n",
    "h2 = pd.read_csv('../data/SMDS_humann2_pathway_aitchison_dm.tsv', sep='\\t', index_col=0)"
   ]
  },
  {
   "cell_type": "markdown",
   "metadata": {},
   "source": [
    "## Reformat distance matrices"
   ]
  },
  {
   "cell_type": "markdown",
   "metadata": {},
   "source": [
    "### 16S distances"
   ]
  },
  {
   "cell_type": "code",
   "execution_count": 3,
   "metadata": {},
   "outputs": [],
   "source": [
    "#melt distance matrix and convert to pandas dataframe \n",
    "meltaitch = amp.unstack()\n",
    "df = pd.DataFrame(meltaitch)\n",
    "df.reset_index(inplace=True)\n",
    "df.columns=['col1','col2','distance']\n",
    "\n",
    "#remove self-self samples\n",
    "df = df[df['col1']!=df['col2']]\n",
    "#remove duplicates\n",
    "df['check_string'] = df.apply(lambda row: ''.join(sorted([row['col1'], row['col2']])), axis=1)\n",
    "amp = df.drop_duplicates('check_string')"
   ]
  },
  {
   "cell_type": "code",
   "execution_count": 4,
   "metadata": {},
   "outputs": [
    {
     "data": {
      "text/html": [
       "<div>\n",
       "<style scoped>\n",
       "    .dataframe tbody tr th:only-of-type {\n",
       "        vertical-align: middle;\n",
       "    }\n",
       "\n",
       "    .dataframe tbody tr th {\n",
       "        vertical-align: top;\n",
       "    }\n",
       "\n",
       "    .dataframe thead th {\n",
       "        text-align: right;\n",
       "    }\n",
       "</style>\n",
       "<table border=\"1\" class=\"dataframe\">\n",
       "  <thead>\n",
       "    <tr style=\"text-align: right;\">\n",
       "      <th></th>\n",
       "      <th>samp</th>\n",
       "      <th>tx</th>\n",
       "      <th>samp2</th>\n",
       "      <th>tx2</th>\n",
       "      <th>col1</th>\n",
       "      <th>col2</th>\n",
       "      <th>distance</th>\n",
       "      <th>check_string</th>\n",
       "      <th>participant1</th>\n",
       "      <th>participant2</th>\n",
       "      <th>timepoint1</th>\n",
       "      <th>timepoint2</th>\n",
       "    </tr>\n",
       "  </thead>\n",
       "  <tbody>\n",
       "    <tr>\n",
       "      <th>1</th>\n",
       "      <td>A1</td>\n",
       "      <td>lyPMA</td>\n",
       "      <td>A4</td>\n",
       "      <td>lyPMA</td>\n",
       "      <td>A1.lyPMA</td>\n",
       "      <td>A4.lyPMA</td>\n",
       "      <td>34.013113</td>\n",
       "      <td>A1.lyPMAA4.lyPMA</td>\n",
       "      <td>A</td>\n",
       "      <td>A</td>\n",
       "      <td>1</td>\n",
       "      <td>4</td>\n",
       "    </tr>\n",
       "    <tr>\n",
       "      <th>3</th>\n",
       "      <td>A1</td>\n",
       "      <td>lyPMA</td>\n",
       "      <td>A2</td>\n",
       "      <td>lyPMA</td>\n",
       "      <td>A1.lyPMA</td>\n",
       "      <td>A2.lyPMA</td>\n",
       "      <td>29.424909</td>\n",
       "      <td>A1.lyPMAA2.lyPMA</td>\n",
       "      <td>A</td>\n",
       "      <td>A</td>\n",
       "      <td>1</td>\n",
       "      <td>2</td>\n",
       "    </tr>\n",
       "    <tr>\n",
       "      <th>5</th>\n",
       "      <td>A1</td>\n",
       "      <td>lyPMA</td>\n",
       "      <td>A3</td>\n",
       "      <td>lyPMA</td>\n",
       "      <td>A1.lyPMA</td>\n",
       "      <td>A3.lyPMA</td>\n",
       "      <td>22.638635</td>\n",
       "      <td>A1.lyPMAA3.lyPMA</td>\n",
       "      <td>A</td>\n",
       "      <td>A</td>\n",
       "      <td>1</td>\n",
       "      <td>3</td>\n",
       "    </tr>\n",
       "    <tr>\n",
       "      <th>8</th>\n",
       "      <td>A1</td>\n",
       "      <td>lyPMA</td>\n",
       "      <td>A5</td>\n",
       "      <td>lyPMA</td>\n",
       "      <td>A1.lyPMA</td>\n",
       "      <td>A5.lyPMA</td>\n",
       "      <td>21.049421</td>\n",
       "      <td>A1.lyPMAA5.lyPMA</td>\n",
       "      <td>A</td>\n",
       "      <td>A</td>\n",
       "      <td>1</td>\n",
       "      <td>5</td>\n",
       "    </tr>\n",
       "    <tr>\n",
       "      <th>10</th>\n",
       "      <td>A1</td>\n",
       "      <td>lyPMA</td>\n",
       "      <td>A6</td>\n",
       "      <td>lyPMA</td>\n",
       "      <td>A1.lyPMA</td>\n",
       "      <td>A6.lyPMA</td>\n",
       "      <td>22.287257</td>\n",
       "      <td>A1.lyPMAA6.lyPMA</td>\n",
       "      <td>A</td>\n",
       "      <td>A</td>\n",
       "      <td>1</td>\n",
       "      <td>6</td>\n",
       "    </tr>\n",
       "  </tbody>\n",
       "</table>\n",
       "</div>"
      ],
      "text/plain": [
       "   samp     tx samp2    tx2      col1      col2   distance      check_string  \\\n",
       "1    A1  lyPMA    A4  lyPMA  A1.lyPMA  A4.lyPMA  34.013113  A1.lyPMAA4.lyPMA   \n",
       "3    A1  lyPMA    A2  lyPMA  A1.lyPMA  A2.lyPMA  29.424909  A1.lyPMAA2.lyPMA   \n",
       "5    A1  lyPMA    A3  lyPMA  A1.lyPMA  A3.lyPMA  22.638635  A1.lyPMAA3.lyPMA   \n",
       "8    A1  lyPMA    A5  lyPMA  A1.lyPMA  A5.lyPMA  21.049421  A1.lyPMAA5.lyPMA   \n",
       "10   A1  lyPMA    A6  lyPMA  A1.lyPMA  A6.lyPMA  22.287257  A1.lyPMAA6.lyPMA   \n",
       "\n",
       "   participant1 participant2 timepoint1 timepoint2  \n",
       "1             A            A          1          4  \n",
       "3             A            A          1          2  \n",
       "5             A            A          1          3  \n",
       "8             A            A          1          5  \n",
       "10            A            A          1          6  "
      ]
     },
     "execution_count": 4,
     "metadata": {},
     "output_type": "execute_result"
    }
   ],
   "source": [
    "#split sample names to break down comparisons, and merge into one dataframe\n",
    "df1 = df.col1.str.split('.',expand=True)\n",
    "df1.columns=['samp','tx']\n",
    "\n",
    "df2 = df.col2.str.split('.',expand=True)\n",
    "df2.columns=['samp2','tx2']\n",
    "\n",
    "dff = pd.concat([df1, df2, df], axis=1)\n",
    "\n",
    "# add in HostSubject ID\n",
    "dff['participant1'] = dff['samp'].str[0:1]\n",
    "dff['participant2'] = dff['samp2'].str[0:1]\n",
    "\n",
    "# add in timepoint \n",
    "dff['timepoint1'] = dff['samp'].str[1:]\n",
    "dff['timepoint2'] = dff['samp2'].str[1:]\n",
    "\n",
    "#only look at lyPMA samples to compare to metaphlan and humann2 output\n",
    "dff = dff[(dff['tx']=='lyPMA')&(dff['tx2']=='lyPMA')]\n",
    "ampl = dff.copy()\n",
    "ampl.head()"
   ]
  },
  {
   "cell_type": "markdown",
   "metadata": {},
   "source": [
    "### metaphlan2 distances"
   ]
  },
  {
   "cell_type": "code",
   "execution_count": 5,
   "metadata": {},
   "outputs": [],
   "source": [
    "#melt distance matrix and convert to pandas dataframe \n",
    "meltaitch = mp.unstack()\n",
    "df = pd.DataFrame(meltaitch)\n",
    "df.reset_index(inplace=True)\n",
    "df.columns=['sample1','sample2','distance']\n",
    "# add in appropriate name\n",
    "df['col1'] = df['sample1'].str[:-69]\n",
    "df['col2'] = df['sample2'].str[:-69]\n",
    "df.head()\n",
    "#remove self-self samples\n",
    "df = df[df['col1']!=df['col2']]\n",
    "#remove duplicates\n",
    "df['check_string'] = df.apply(lambda row: ''.join(sorted([row['col1'], row['col2']])), axis=1)\n",
    "df = df.drop_duplicates('check_string')"
   ]
  },
  {
   "cell_type": "code",
   "execution_count": 6,
   "metadata": {},
   "outputs": [
    {
     "data": {
      "text/html": [
       "<div>\n",
       "<style scoped>\n",
       "    .dataframe tbody tr th:only-of-type {\n",
       "        vertical-align: middle;\n",
       "    }\n",
       "\n",
       "    .dataframe tbody tr th {\n",
       "        vertical-align: top;\n",
       "    }\n",
       "\n",
       "    .dataframe thead th {\n",
       "        text-align: right;\n",
       "    }\n",
       "</style>\n",
       "<table border=\"1\" class=\"dataframe\">\n",
       "  <thead>\n",
       "    <tr style=\"text-align: right;\">\n",
       "      <th></th>\n",
       "      <th>distance</th>\n",
       "      <th>col1</th>\n",
       "      <th>col2</th>\n",
       "      <th>check_string</th>\n",
       "      <th>samp</th>\n",
       "      <th>tx</th>\n",
       "      <th>samp2</th>\n",
       "      <th>tx2</th>\n",
       "      <th>participant1</th>\n",
       "      <th>participant2</th>\n",
       "      <th>timepoint1</th>\n",
       "      <th>timepoint2</th>\n",
       "    </tr>\n",
       "  </thead>\n",
       "  <tbody>\n",
       "    <tr>\n",
       "      <th>1</th>\n",
       "      <td>4.409680</td>\n",
       "      <td>A1_lyPMA</td>\n",
       "      <td>A2_lyPMA</td>\n",
       "      <td>A1_lyPMAA2_lyPMA</td>\n",
       "      <td>A1</td>\n",
       "      <td>lyPMA</td>\n",
       "      <td>A2</td>\n",
       "      <td>lyPMA</td>\n",
       "      <td>A</td>\n",
       "      <td>A</td>\n",
       "      <td>1</td>\n",
       "      <td>2</td>\n",
       "    </tr>\n",
       "    <tr>\n",
       "      <th>2</th>\n",
       "      <td>3.374401</td>\n",
       "      <td>A1_lyPMA</td>\n",
       "      <td>A3_lyPMA</td>\n",
       "      <td>A1_lyPMAA3_lyPMA</td>\n",
       "      <td>A1</td>\n",
       "      <td>lyPMA</td>\n",
       "      <td>A3</td>\n",
       "      <td>lyPMA</td>\n",
       "      <td>A</td>\n",
       "      <td>A</td>\n",
       "      <td>1</td>\n",
       "      <td>3</td>\n",
       "    </tr>\n",
       "    <tr>\n",
       "      <th>3</th>\n",
       "      <td>4.459073</td>\n",
       "      <td>A1_lyPMA</td>\n",
       "      <td>A5_lyPMA</td>\n",
       "      <td>A1_lyPMAA5_lyPMA</td>\n",
       "      <td>A1</td>\n",
       "      <td>lyPMA</td>\n",
       "      <td>A5</td>\n",
       "      <td>lyPMA</td>\n",
       "      <td>A</td>\n",
       "      <td>A</td>\n",
       "      <td>1</td>\n",
       "      <td>5</td>\n",
       "    </tr>\n",
       "    <tr>\n",
       "      <th>4</th>\n",
       "      <td>4.126941</td>\n",
       "      <td>A1_lyPMA</td>\n",
       "      <td>A6_lyPMA</td>\n",
       "      <td>A1_lyPMAA6_lyPMA</td>\n",
       "      <td>A1</td>\n",
       "      <td>lyPMA</td>\n",
       "      <td>A6</td>\n",
       "      <td>lyPMA</td>\n",
       "      <td>A</td>\n",
       "      <td>A</td>\n",
       "      <td>1</td>\n",
       "      <td>6</td>\n",
       "    </tr>\n",
       "    <tr>\n",
       "      <th>5</th>\n",
       "      <td>3.932718</td>\n",
       "      <td>A1_lyPMA</td>\n",
       "      <td>A7_lyPMA</td>\n",
       "      <td>A1_lyPMAA7_lyPMA</td>\n",
       "      <td>A1</td>\n",
       "      <td>lyPMA</td>\n",
       "      <td>A7</td>\n",
       "      <td>lyPMA</td>\n",
       "      <td>A</td>\n",
       "      <td>A</td>\n",
       "      <td>1</td>\n",
       "      <td>7</td>\n",
       "    </tr>\n",
       "  </tbody>\n",
       "</table>\n",
       "</div>"
      ],
      "text/plain": [
       "   distance      col1      col2      check_string samp     tx samp2    tx2  \\\n",
       "1  4.409680  A1_lyPMA  A2_lyPMA  A1_lyPMAA2_lyPMA   A1  lyPMA    A2  lyPMA   \n",
       "2  3.374401  A1_lyPMA  A3_lyPMA  A1_lyPMAA3_lyPMA   A1  lyPMA    A3  lyPMA   \n",
       "3  4.459073  A1_lyPMA  A5_lyPMA  A1_lyPMAA5_lyPMA   A1  lyPMA    A5  lyPMA   \n",
       "4  4.126941  A1_lyPMA  A6_lyPMA  A1_lyPMAA6_lyPMA   A1  lyPMA    A6  lyPMA   \n",
       "5  3.932718  A1_lyPMA  A7_lyPMA  A1_lyPMAA7_lyPMA   A1  lyPMA    A7  lyPMA   \n",
       "\n",
       "  participant1 participant2 timepoint1 timepoint2  \n",
       "1            A            A          1          2  \n",
       "2            A            A          1          3  \n",
       "3            A            A          1          5  \n",
       "4            A            A          1          6  \n",
       "5            A            A          1          7  "
      ]
     },
     "execution_count": 6,
     "metadata": {},
     "output_type": "execute_result"
    }
   ],
   "source": [
    "#split sample names to break down comparisons, and merge into one dataframe\n",
    "df1 = df.col1.str.split('_',expand=True)\n",
    "df1.replace('lyPMA2','lyPMA', inplace=True)\n",
    "df1.columns=['samp','tx']\n",
    "\n",
    "df2 = df.col2.str.split('_',expand=True)\n",
    "df2.replace('lyPMA2','lyPMA', inplace=True)\n",
    "df2.columns=['samp2','tx2']\n",
    "\n",
    "dff = pd.concat([df, df1, df2], axis=1)\n",
    "# get rid of columns you don't need anymore\n",
    "dff.drop(['sample1','sample2'], axis=1, inplace=True)\n",
    "\n",
    "#add in HostSubject ID\n",
    "dff['participant1'] = dff['samp'].str[0:1]\n",
    "dff['participant2'] = dff['samp2'].str[0:1]\n",
    "# add in timepoint \n",
    "dff['timepoint1'] = dff['samp'].str[1:]\n",
    "dff['timepoint2'] = dff['samp2'].str[1:]\n",
    "\n",
    "mep = dff.copy()\n",
    "mep.head()"
   ]
  },
  {
   "cell_type": "markdown",
   "metadata": {},
   "source": [
    "### humann2 distances"
   ]
  },
  {
   "cell_type": "code",
   "execution_count": 7,
   "metadata": {},
   "outputs": [],
   "source": [
    "#melt distance matrix and convert to pandas dataframe \n",
    "meltaitch = h2.unstack()\n",
    "df = pd.DataFrame(meltaitch)\n",
    "df.reset_index(inplace=True)\n",
    "df.columns=['col1','col2','distance']\n",
    "#remove self-self samples\n",
    "df = df[df['col1']!=df['col2']]\n",
    "#remove duplicates\n",
    "df['check_string'] = df.apply(lambda row: ''.join(sorted([row['col1'], row['col2']])), axis=1)\n",
    "df = df.drop_duplicates('check_string')"
   ]
  },
  {
   "cell_type": "code",
   "execution_count": 8,
   "metadata": {},
   "outputs": [
    {
     "data": {
      "text/html": [
       "<div>\n",
       "<style scoped>\n",
       "    .dataframe tbody tr th:only-of-type {\n",
       "        vertical-align: middle;\n",
       "    }\n",
       "\n",
       "    .dataframe tbody tr th {\n",
       "        vertical-align: top;\n",
       "    }\n",
       "\n",
       "    .dataframe thead th {\n",
       "        text-align: right;\n",
       "    }\n",
       "</style>\n",
       "<table border=\"1\" class=\"dataframe\">\n",
       "  <thead>\n",
       "    <tr style=\"text-align: right;\">\n",
       "      <th></th>\n",
       "      <th>col1</th>\n",
       "      <th>col2</th>\n",
       "      <th>distance</th>\n",
       "      <th>check_string</th>\n",
       "      <th>participant1</th>\n",
       "      <th>participant2</th>\n",
       "      <th>timepoint1</th>\n",
       "      <th>timepoint2</th>\n",
       "    </tr>\n",
       "  </thead>\n",
       "  <tbody>\n",
       "    <tr>\n",
       "      <th>1</th>\n",
       "      <td>C8</td>\n",
       "      <td>I9</td>\n",
       "      <td>53.088736</td>\n",
       "      <td>C8I9</td>\n",
       "      <td>C</td>\n",
       "      <td>I</td>\n",
       "      <td>8</td>\n",
       "      <td>9</td>\n",
       "    </tr>\n",
       "    <tr>\n",
       "      <th>2</th>\n",
       "      <td>C8</td>\n",
       "      <td>H2</td>\n",
       "      <td>56.529445</td>\n",
       "      <td>C8H2</td>\n",
       "      <td>C</td>\n",
       "      <td>H</td>\n",
       "      <td>8</td>\n",
       "      <td>2</td>\n",
       "    </tr>\n",
       "    <tr>\n",
       "      <th>3</th>\n",
       "      <td>C8</td>\n",
       "      <td>I6</td>\n",
       "      <td>54.684440</td>\n",
       "      <td>C8I6</td>\n",
       "      <td>C</td>\n",
       "      <td>I</td>\n",
       "      <td>8</td>\n",
       "      <td>6</td>\n",
       "    </tr>\n",
       "    <tr>\n",
       "      <th>4</th>\n",
       "      <td>C8</td>\n",
       "      <td>C2</td>\n",
       "      <td>43.183710</td>\n",
       "      <td>C2C8</td>\n",
       "      <td>C</td>\n",
       "      <td>C</td>\n",
       "      <td>8</td>\n",
       "      <td>2</td>\n",
       "    </tr>\n",
       "    <tr>\n",
       "      <th>5</th>\n",
       "      <td>C8</td>\n",
       "      <td>D8</td>\n",
       "      <td>50.012928</td>\n",
       "      <td>C8D8</td>\n",
       "      <td>C</td>\n",
       "      <td>D</td>\n",
       "      <td>8</td>\n",
       "      <td>8</td>\n",
       "    </tr>\n",
       "  </tbody>\n",
       "</table>\n",
       "</div>"
      ],
      "text/plain": [
       "  col1 col2   distance check_string participant1 participant2 timepoint1  \\\n",
       "1   C8   I9  53.088736         C8I9            C            I          8   \n",
       "2   C8   H2  56.529445         C8H2            C            H          8   \n",
       "3   C8   I6  54.684440         C8I6            C            I          8   \n",
       "4   C8   C2  43.183710         C2C8            C            C          8   \n",
       "5   C8   D8  50.012928         C8D8            C            D          8   \n",
       "\n",
       "  timepoint2  \n",
       "1          9  \n",
       "2          2  \n",
       "3          6  \n",
       "4          2  \n",
       "5          8  "
      ]
     },
     "execution_count": 8,
     "metadata": {},
     "output_type": "execute_result"
    }
   ],
   "source": [
    "# add in participant ID \n",
    "df['participant1'] = df['col1'].str[0:1]\n",
    "df['participant2'] = df['col2'].str[0:1]\n",
    "# add in timepoint \n",
    "df['timepoint1'] = df['col1'].str[1:]\n",
    "df['timepoint2'] = df['col2'].str[1:]\n",
    "\n",
    "hu2 = df.copy()\n",
    "hu2.head()"
   ]
  },
  {
   "cell_type": "markdown",
   "metadata": {},
   "source": [
    "## Apply function to categorize distances"
   ]
  },
  {
   "cell_type": "code",
   "execution_count": 9,
   "metadata": {},
   "outputs": [],
   "source": [
    "# create function to label within versus among participants distances\n",
    "def f(row):\n",
    "    if (row['participant1']==row['participant2']):\n",
    "        val = \"same_participant_different_timepoint\"\n",
    "    elif (row['timepoint1']==row['timepoint2']):\n",
    "        val = \"same_timepoint_different_participants\"\n",
    "    else:\n",
    "        val = \"something_else\"\n",
    "    return val\n",
    "\n",
    "ampl['distance_cat'] = ampl.apply(f, axis=1)\n",
    "mep['distance_cat'] = mep.apply(f, axis=1)\n",
    "hu2['distance_cat'] = hu2.apply(f, axis=1)"
   ]
  },
  {
   "cell_type": "markdown",
   "metadata": {},
   "source": [
    "## Plot Figure S3"
   ]
  },
  {
   "cell_type": "code",
   "execution_count": 10,
   "metadata": {},
   "outputs": [
    {
     "data": {
      "text/plain": [
       "Text(0.5, 1, 'HUMAnN2')"
      ]
     },
     "execution_count": 10,
     "metadata": {},
     "output_type": "execute_result"
    },
    {
     "data": {
      "image/png": "[encoded data removed]",
      "text/plain": [
       "<Figure size 432x288 with 3 Axes>"
      ]
     },
     "metadata": {
      "needs_background": "light"
     },
     "output_type": "display_data"
    }
   ],
   "source": [
    "fig, (ax1, ax2, ax3) = plt.subplots(1, 3)\n",
    "fig.suptitle('Distance within versus among participants', y=1.11, fontsize=16)\n",
    "fig.tight_layout()\n",
    "# set palette\n",
    "pal = {'same_participant_different_timepoint':'#999999','same_timepoint_different_participants':'#ef8a62'}\n",
    "order = ['same_participant_different_timepoint', 'same_timepoint_different_participants']\n",
    "# plot boxplots\n",
    "sns.boxplot(x='distance_cat', y='distance',data=ampl, palette=pal, notch=True, ax=ax1, order=order)\n",
    "sns.boxplot(x='distance_cat', y='distance',data=mep, palette=pal, notch=True, ax=ax2, order=order)\n",
    "sns.boxplot(x='distance_cat', y='distance',data=hu2, palette=pal, notch=True, ax=ax3, order=order)\n",
    "# rotated x-label\n",
    "ax1.set_xticklabels(ax1.get_xticklabels(), rotation = 90)\n",
    "ax2.set_xticklabels(ax2.get_xticklabels(), rotation = 90)\n",
    "ax3.set_xticklabels(ax3.get_xticklabels(), rotation = 90)\n",
    "# set y-axis limits\n",
    "ax1.set_ylim(10,60)\n",
    "ax2.set_ylim(0,10)\n",
    "ax3.set_ylim(0,60)\n",
    "# set y-label\n",
    "ax1.set_ylabel('Aitchison distance', fontsize=14)\n",
    "ax2.set_ylabel('')\n",
    "ax3.set_ylabel('')\n",
    "# set y-label\n",
    "ax1.set_xlabel('')\n",
    "ax2.set_xlabel('')\n",
    "ax3.set_xlabel('')\n",
    "# set y-label\n",
    "ax1.set_title('Deblur', fontsize=14)\n",
    "ax2.set_title('MetaPhlAn2', fontsize=14)\n",
    "ax3.set_title('HUMAnN2', fontsize=14)"
   ]
  },
  {
   "cell_type": "markdown",
   "metadata": {},
   "source": [
    "## Stats time"
   ]
  },
  {
   "cell_type": "code",
   "execution_count": 17,
   "metadata": {},
   "outputs": [],
   "source": [
    "## Include only distances from either\n",
    "# the same participant over time\n",
    "# or different participants at the same time\n",
    "ampl = ampl[ampl['distance_cat']!='something_else']\n",
    "mep = mep[mep['distance_cat']!='something_else']\n",
    "hu2 = hu2[hu2['distance_cat']!='something_else']"
   ]
  },
  {
   "cell_type": "code",
   "execution_count": 16,
   "metadata": {},
   "outputs": [
    {
     "name": "stdout",
     "output_type": "stream",
     "text": [
      "                                  Group1  \\\n",
      "0  same_timepoint_different_participants   \n",
      "\n",
      "                                 Group2   Statistic      Pval  \n",
      "0  same_participant_different_timepoint  921.223006  0.000999  \n"
     ]
    }
   ],
   "source": [
    "# Run bootstrapped Kruskal-Wallis test \n",
    "# on 16S rRNA gene amplicon sequencing dataset\n",
    "result = pw_perm_kruskal_test(ampl['distance'], ampl['distance_cat'])\n",
    "print(result)"
   ]
  },
  {
   "cell_type": "code",
   "execution_count": 18,
   "metadata": {},
   "outputs": [
    {
     "name": "stdout",
     "output_type": "stream",
     "text": [
      "                                  Group1  \\\n",
      "0  same_timepoint_different_participants   \n",
      "\n",
      "                                 Group2  Statistic      Pval  \n",
      "0  same_participant_different_timepoint   85.27785  0.000999  \n"
     ]
    }
   ],
   "source": [
    "# Run bootstrapped Kruskal-Wallis test \n",
    "# on shotgun metagenomic sequencing dataset processed with\n",
    "# MetaPhlAn2 to identify species relative abundance\n",
    "result = pw_perm_kruskal_test(mep['distance'], mep['distance_cat'])\n",
    "print(result)"
   ]
  },
  {
   "cell_type": "code",
   "execution_count": 20,
   "metadata": {},
   "outputs": [
    {
     "name": "stdout",
     "output_type": "stream",
     "text": [
      "                                  Group1  \\\n",
      "0  same_timepoint_different_participants   \n",
      "\n",
      "                                 Group2  Statistic      Pval  \n",
      "0  same_participant_different_timepoint  13.375795  0.000999  \n"
     ]
    }
   ],
   "source": [
    "# Run bootstrapped Kruskal-Wallis test \n",
    "# on shotgun metagenomic sequencing dataset processed with\n",
    "# HUMAnN2 to identify functional pathway relative abundance\n",
    "result = pw_perm_kruskal_test(hu2['distance'], hu2['distance_cat'])\n",
    "print(result)"
   ]
  },
  {
   "cell_type": "code",
   "execution_count": null,
   "metadata": {},
   "outputs": [],
   "source": []
  }
 ],
 "metadata": {
  "kernelspec": {
   "display_name": "Python 3",
   "language": "python",
   "name": "python3"
  },
  "language_info": {
   "codemirror_mode": {
    "name": "ipython",
    "version": 3
   },
   "file_extension": ".py",
   "mimetype": "text/x-python",
   "name": "python",
   "nbconvert_exporter": "python",
   "pygments_lexer": "ipython3",
   "version": "3.6.7"
  }
 },
 "nbformat": 4,
 "nbformat_minor": 2
}
