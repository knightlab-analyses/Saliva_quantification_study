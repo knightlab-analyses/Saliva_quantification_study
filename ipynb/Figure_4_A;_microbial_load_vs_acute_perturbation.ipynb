{
 "cells": [
  {
   "cell_type": "code",
   "execution_count": 2,
   "metadata": {},
   "outputs": [],
   "source": [
    "import pandas as pd\n",
    "import numpy as np\n",
    "import seaborn as sns\n",
    "import matplotlib\n",
    "import matplotlib.pyplot as plt\n",
    "import matplotlib.ticker as mticker\n",
    "%matplotlib inline\n",
    "import scipy\n",
    "from scipy import stats\n",
    "from scipy.stats import ttest_rel\n",
    "from scipy.stats import ttest_ind\n",
    "from statsmodels.stats.multicomp import pairwise_tukeyhsd\n",
    "from statsmodels.stats.multicomp import MultiComparison"
   ]
  },
  {
   "cell_type": "markdown",
   "metadata": {},
   "source": [
    "## Import and reformat data"
   ]
  },
  {
   "cell_type": "code",
   "execution_count": 3,
   "metadata": {},
   "outputs": [],
   "source": [
    "# import metadata\n",
    "table = pd.read_csv('../data/T4_SRS_metadata_ms.txt', sep='\\t', index_col=0)"
   ]
  },
  {
   "cell_type": "code",
   "execution_count": 4,
   "metadata": {},
   "outputs": [
    {
     "data": {
      "text/plain": [
       "((84, 33), (84, 33))"
      ]
     },
     "execution_count": 4,
     "metadata": {},
     "output_type": "execute_result"
    }
   ],
   "source": [
    "# seperate out raw and PMA-treated samples into their own tables\n",
    "pmaT = table[table['processing']=='PMA']\n",
    "rawT = table[table['processing']=='raw']\n",
    "rawT.shape, pmaT.shape"
   ]
  },
  {
   "cell_type": "code",
   "execution_count": 5,
   "metadata": {},
   "outputs": [
    {
     "data": {
      "text/plain": [
       "(84, 12)"
      ]
     },
     "execution_count": 5,
     "metadata": {},
     "output_type": "execute_result"
    }
   ],
   "source": [
    "# reorganize table so that you have raw and PMA cell counts side by side\n",
    "raws = rawT[['saliva_sample_ID','timepoint','participant_id','Treatment_code','FC_cells_per_ul_r1', 'FC_cells_per_ul_r2', 'FC_avg_cells_per_ul','FC_avg_cells_5_min']]\n",
    "raws.columns=['saliva_sample_ID','timepoint','participant_id','Treatment_code','raw_FC_cells_per_ul_r1', 'raw_FC_cells_per_ul_r2', 'raw_FC_avg_cells_per_ul','raw_FC_avg_cells_5_min']\n",
    "\n",
    "pmas = pmaT[['saliva_sample_ID','FC_cells_per_ul_r1', 'FC_cells_per_ul_r2', 'FC_avg_cells_per_ul','FC_avg_cells_5_min']]\n",
    "pmas.columns=['saliva_sample_ID','pma_FC_cells_per_ul_r1', 'pma_FC_cells_per_ul_r2', 'pma_FC_avg_cells_per_ul','pma_FC_avg_cells_5_min']\n",
    "\n",
    "# merge tables together\n",
    "df = pd.merge(pmas, raws, left_on='saliva_sample_ID', right_on='saliva_sample_ID')\n",
    "df.shape"
   ]
  },
  {
   "cell_type": "code",
   "execution_count": 6,
   "metadata": {},
   "outputs": [],
   "source": [
    "# Calculate number of dead cells collected in 5 minutes (total - live)\n",
    "df['dead_Cell5min'] = df['raw_FC_avg_cells_5_min'] - df['pma_FC_avg_cells_5_min']"
   ]
  },
  {
   "cell_type": "markdown",
   "metadata": {},
   "source": [
    "## Add in normalized cell counts to timepoint 1"
   ]
  },
  {
   "cell_type": "code",
   "execution_count": 7,
   "metadata": {},
   "outputs": [],
   "source": [
    "# normalize dead cells to timepoint 1\n",
    "def relcell(row, lookup_table):\n",
    "    if row.timepoint == 1:\n",
    "        return 1\n",
    "    else:\n",
    "        baseline = df[(df.participant_id == row.participant_id) &\n",
    "                      (df.timepoint == 1)].dead_Cell5min\n",
    "        baseline = baseline.to_list().pop()\n",
    "        return row.dead_Cell5min / baseline\n",
    "    \n",
    "df['percent_dead_t1'] = df.apply(relcell, axis=1, args=(df,))"
   ]
  },
  {
   "cell_type": "code",
   "execution_count": 8,
   "metadata": {},
   "outputs": [],
   "source": [
    "# normalize live cells to timepoint 1\n",
    "def relcell(row, lookup_table):\n",
    "    if row.timepoint == 1:\n",
    "        return 1\n",
    "    else:\n",
    "        baseline = df[(df.participant_id == row.participant_id) &\n",
    "                      (df.timepoint == 1)].pma_FC_avg_cells_5_min\n",
    "        baseline = baseline.to_list().pop()\n",
    "        return row.pma_FC_avg_cells_5_min / baseline\n",
    "    \n",
    "df['percent_live_t1'] = df.apply(relcell, axis=1, args=(df,))"
   ]
  },
  {
   "cell_type": "markdown",
   "metadata": {},
   "source": [
    "## Reformat and plot"
   ]
  },
  {
   "cell_type": "code",
   "execution_count": 9,
   "metadata": {},
   "outputs": [],
   "source": [
    "# log transform to center around zero\n",
    "df['log_percent_dead_t1'] = np.log(df['percent_dead_t1'])\n",
    "df['log_percent_live_t1'] = np.log(df['percent_live_t1'])"
   ]
  },
  {
   "cell_type": "code",
   "execution_count": 10,
   "metadata": {},
   "outputs": [],
   "source": [
    "# separate out each treatment group for plotting\n",
    "A = df[df['Treatment_code']=='A'][['timepoint','percent_dead_t1','percent_live_t1']]\n",
    "A = A.drop(2, axis=0) # remove sole outlier!\n",
    "B = df[df['Treatment_code']=='B'][['timepoint','percent_dead_t1','percent_live_t1']]\n",
    "C = df[df['Treatment_code']=='C'][['timepoint','percent_dead_t1','percent_live_t1']]\n",
    "D = df[df['Treatment_code']=='D'][['timepoint','percent_dead_t1','percent_live_t1']]"
   ]
  },
  {
   "cell_type": "code",
   "execution_count": 11,
   "metadata": {},
   "outputs": [],
   "source": [
    "# Cacluclated average and SEM of the fold change of each group by timepoint\n",
    "Ag = A.groupby(['timepoint']).mean().rename(index=str, columns={'percent_dead_t1':'percent_dead_t1_avg',\n",
    "                                                                'percent_live_t1':'percent_live_t1_avg',\n",
    "                                                                'log_percent_dead_t1':'log_percent_dead_t1_avg',\n",
    "                                                                'log_percent_live_t1':'log_percent_live_t1_avg'})\n",
    "As = A.groupby(['timepoint']).sem().rename(index=str, columns={'percent_dead_t1':'percent_dead_t1_sem',\n",
    "                                                               'percent_live_t1':'percent_live_t1_sem',\n",
    "                                                               'log_percent_dead_t1':'log_percent_dead_t1_sem',\n",
    "                                                               'log_percent_live_t1':'log_percent_live_t1_sem'})\n",
    "Bg = B.groupby(['timepoint']).mean().rename(index=str, columns={'percent_dead_t1':'percent_dead_t1_avg',\n",
    "                                                                'percent_live_t1':'percent_live_t1_avg',\n",
    "                                                                'log_percent_dead_t1':'log_percent_dead_t1_avg',\n",
    "                                                                'log_percent_live_t1':'log_percent_live_t1_avg'})\n",
    "Bs = B.groupby(['timepoint']).sem().rename(index=str, columns={'percent_dead_t1':'percent_dead_t1_sem',\n",
    "                                                               'percent_live_t1':'percent_live_t1_sem',\n",
    "                                                               'log_percent_dead_t1':'log_percent_dead_t1_sem',\n",
    "                                                               'log_percent_live_t1':'log_percent_live_t1_sem'})\n",
    "Cg = C.groupby(['timepoint']).mean().rename(index=str, columns={'percent_dead_t1':'percent_dead_t1_avg',\n",
    "                                                                'percent_live_t1':'percent_live_t1_avg',\n",
    "                                                                'log_percent_dead_t1':'log_percent_dead_t1_avg',\n",
    "                                                                'log_percent_live_t1':'log_percent_live_t1_avg'})\n",
    "Cs = C.groupby(['timepoint']).sem().rename(index=str, columns={'percent_dead_t1':'percent_dead_t1_sem',\n",
    "                                                               'percent_live_t1':'percent_live_t1_sem',\n",
    "                                                               'log_percent_dead_t1':'log_percent_dead_t1_sem',\n",
    "                                                               'log_percent_live_t1':'log_percent_live_t1_sem'})\n",
    "Dg = D.groupby(['timepoint']).mean().rename(index=str, columns={'percent_dead_t1':'percent_dead_t1_avg',\n",
    "                                                                'percent_live_t1':'percent_live_t1_avg',\n",
    "                                                                'log_percent_dead_t1':'log_percent_dead_t1_avg',\n",
    "                                                                'log_percent_live_t1':'log_percent_live_t1_avg'})\n",
    "Ds = D.groupby(['timepoint']).sem().rename(index=str, columns={'percent_dead_t1':'percent_dead_t1_sem',\n",
    "                                                               'percent_live_t1':'percent_live_t1_sem',\n",
    "                                                               'log_percent_dead_t1':'log_percent_dead_t1_sem',\n",
    "                                                               'log_percent_live_t1':'log_percent_live_t1_sem'})"
   ]
  },
  {
   "cell_type": "code",
   "execution_count": 12,
   "metadata": {},
   "outputs": [],
   "source": [
    "# create a table for each treatment group that has the average and sem of the fold change normalized to t1\n",
    "water = pd.merge(Ag, As, left_index=True, right_index=True)\n",
    "antiseptic_mouthwash = pd.merge(Bg, Bs, left_index=True, right_index=True)\n",
    "alcohol_free_mouthwash = pd.merge(Cg, Cs, left_index=True, right_index=True)\n",
    "soda = pd.merge(Dg, Ds, left_index=True, right_index=True)"
   ]
  },
  {
   "cell_type": "code",
   "execution_count": 13,
   "metadata": {},
   "outputs": [
    {
     "data": {
      "text/plain": [
       "[Text(0, 0, 'dud'), Text(0, 0, 'T1'), Text(0, 0, 'T2'), Text(0, 0, 'T3')]"
      ]
     },
     "execution_count": 13,
     "metadata": {},
     "output_type": "execute_result"
    },
    {
     "data": {
      "image/png": "[encoded data removed]",
      "text/plain": [
       "<Figure size 864x288 with 4 Axes>"
      ]
     },
     "metadata": {
      "needs_background": "light"
     },
     "output_type": "display_data"
    }
   ],
   "source": [
    "# PLOT\n",
    "# set width of bar\n",
    "barWidth = 0.35\n",
    "# Set position of bar on X axis\n",
    "r1 = np.arange(3)\n",
    "r2 = [x + barWidth for x in r1]\n",
    "labels = ('dud','T1','T2','T3')\n",
    "\n",
    "f, (ax1, ax2, ax3, ax4) = plt.subplots(1, 4, sharey=True)\n",
    "f.set_size_inches(12,4)\n",
    "# plot water\n",
    "ax1.bar(r1, water['percent_live_t1_avg'], yerr=water['percent_live_t1_sem'], color='#5ab4ac', width=barWidth, edgecolor='black', label='live')\n",
    "ax1.bar(r2, water['percent_dead_t1_avg'], yerr=water['percent_dead_t1_sem'],color='#d8b365', width=barWidth, edgecolor='black', label='dead')\n",
    "ax1.set_yscale('log')\n",
    "ax1.yaxis.set_major_formatter(mticker.ScalarFormatter())\n",
    "ax1.set_ylim(.04,25)\n",
    "ax1.set_title('water')\n",
    "ax1.set_ylabel('fold change from  T1', fontsize=14)\n",
    "ax1.tick_params(axis='both', which='major', labelsize=14)\n",
    "ax1.set_xticklabels(labels)\n",
    "\n",
    "# plot antiseptic_mouthwash\n",
    "ax2.bar(r1, antiseptic_mouthwash['percent_live_t1_avg'], yerr=antiseptic_mouthwash['percent_live_t1_sem'], color='#5ab4ac', width=barWidth, edgecolor='black', label='live')\n",
    "ax2.bar(r2, antiseptic_mouthwash['percent_dead_t1_avg'], yerr=antiseptic_mouthwash['percent_dead_t1_sem'],color='#d8b365', width=barWidth, edgecolor='black', label='dead')\n",
    "ax2.set_title('antiseptic mw', fontsize=12)\n",
    "ax2.set_xticklabels(labels, fontsize=14)\n",
    "\n",
    "# plot alcohol_free_mouthwash\n",
    "ax3.bar(r1, alcohol_free_mouthwash['percent_live_t1_avg'], yerr=alcohol_free_mouthwash['percent_live_t1_sem'], color='#5ab4ac', width=barWidth, edgecolor='black', label='live')\n",
    "ax3.bar(r2, alcohol_free_mouthwash['percent_dead_t1_avg'], yerr=alcohol_free_mouthwash['percent_dead_t1_sem'],color='#d8b365', width=barWidth, edgecolor='black', label='dead')\n",
    "ax3.set_title('alcohol-free mw')\n",
    "ax3.set_xticklabels(labels, fontsize=14)\n",
    "\n",
    "# plot soda\n",
    "ax4.bar(r1, soda['percent_live_t1_avg'], yerr=soda['percent_live_t1_sem'], color='#5ab4ac', width=barWidth, edgecolor='black', label='live')\n",
    "ax4.bar(r2, soda['percent_dead_t1_avg'], yerr=soda['percent_dead_t1_sem'],color='#d8b365', width=barWidth, edgecolor='black', label='dead')\n",
    "ax4.set_title('soda')\n",
    "ax4.set_xticklabels(labels, fontsize=14)\n"
   ]
  },
  {
   "cell_type": "markdown",
   "metadata": {},
   "source": [
    "## Run statistics"
   ]
  },
  {
   "cell_type": "code",
   "execution_count": 14,
   "metadata": {},
   "outputs": [
    {
     "name": "stderr",
     "output_type": "stream",
     "text": [
      "/Users/lisamarotz/miniconda2/envs/qiime2-2019.10/lib/python3.6/site-packages/pandas/core/frame.py:4238: SettingWithCopyWarning: \n",
      "A value is trying to be set on a copy of a slice from a DataFrame\n",
      "\n",
      "See the caveats in the documentation: http://pandas.pydata.org/pandas-docs/stable/user_guide/indexing.html#returning-a-view-versus-a-copy\n",
      "  return super().rename(**kwargs)\n",
      "/Users/lisamarotz/miniconda2/envs/qiime2-2019.10/lib/python3.6/site-packages/ipykernel_launcher.py:5: SettingWithCopyWarning: \n",
      "A value is trying to be set on a copy of a slice from a DataFrame.\n",
      "Try using .loc[row_indexer,col_indexer] = value instead\n",
      "\n",
      "See the caveats in the documentation: http://pandas.pydata.org/pandas-docs/stable/user_guide/indexing.html#returning-a-view-versus-a-copy\n",
      "  \"\"\"\n",
      "/Users/lisamarotz/miniconda2/envs/qiime2-2019.10/lib/python3.6/site-packages/ipykernel_launcher.py:10: SettingWithCopyWarning: \n",
      "A value is trying to be set on a copy of a slice from a DataFrame.\n",
      "Try using .loc[row_indexer,col_indexer] = value instead\n",
      "\n",
      "See the caveats in the documentation: http://pandas.pydata.org/pandas-docs/stable/user_guide/indexing.html#returning-a-view-versus-a-copy\n",
      "  # Remove the CWD from sys.path while we load stuff.\n"
     ]
    },
    {
     "data": {
      "text/html": [
       "<div>\n",
       "<style scoped>\n",
       "    .dataframe tbody tr th:only-of-type {\n",
       "        vertical-align: middle;\n",
       "    }\n",
       "\n",
       "    .dataframe tbody tr th {\n",
       "        vertical-align: top;\n",
       "    }\n",
       "\n",
       "    .dataframe thead th {\n",
       "        text-align: right;\n",
       "    }\n",
       "</style>\n",
       "<table border=\"1\" class=\"dataframe\">\n",
       "  <thead>\n",
       "    <tr style=\"text-align: right;\">\n",
       "      <th></th>\n",
       "      <th>saliva_sample_ID</th>\n",
       "      <th>pma_FC_cells_per_ul_r1</th>\n",
       "      <th>pma_FC_cells_per_ul_r2</th>\n",
       "      <th>pma_FC_avg_cells_per_ul</th>\n",
       "      <th>pma_FC_avg_cells_5_min</th>\n",
       "      <th>timepoint</th>\n",
       "      <th>participant_id</th>\n",
       "      <th>Treatment_code</th>\n",
       "      <th>raw_FC_cells_per_ul_r1</th>\n",
       "      <th>raw_FC_cells_per_ul_r2</th>\n",
       "      <th>raw_FC_avg_cells_per_ul</th>\n",
       "      <th>raw_FC_avg_cells_5_min</th>\n",
       "      <th>dead_Cell5min</th>\n",
       "      <th>percent_dead_t1</th>\n",
       "      <th>percent_live_t1</th>\n",
       "      <th>log_percent_dead_t1</th>\n",
       "      <th>log_percent_live_t1</th>\n",
       "    </tr>\n",
       "  </thead>\n",
       "  <tbody>\n",
       "    <tr>\n",
       "      <th>0</th>\n",
       "      <td>A1.1</td>\n",
       "      <td>11351</td>\n",
       "      <td>10854</td>\n",
       "      <td>11103</td>\n",
       "      <td>24425500</td>\n",
       "      <td>1</td>\n",
       "      <td>A1</td>\n",
       "      <td>A</td>\n",
       "      <td>66395</td>\n",
       "      <td>70173</td>\n",
       "      <td>68284</td>\n",
       "      <td>150224800</td>\n",
       "      <td>125799300</td>\n",
       "      <td>1.000000</td>\n",
       "      <td>1.000000</td>\n",
       "      <td>0.000000</td>\n",
       "      <td>0.000000</td>\n",
       "    </tr>\n",
       "    <tr>\n",
       "      <th>1</th>\n",
       "      <td>A1.2</td>\n",
       "      <td>27306</td>\n",
       "      <td>27451</td>\n",
       "      <td>27379</td>\n",
       "      <td>49281300</td>\n",
       "      <td>2</td>\n",
       "      <td>A1</td>\n",
       "      <td>A</td>\n",
       "      <td>106109</td>\n",
       "      <td>154696</td>\n",
       "      <td>130403</td>\n",
       "      <td>234724500</td>\n",
       "      <td>185443200</td>\n",
       "      <td>1.474119</td>\n",
       "      <td>2.017617</td>\n",
       "      <td>0.388061</td>\n",
       "      <td>0.701917</td>\n",
       "    </tr>\n",
       "    <tr>\n",
       "      <th>2</th>\n",
       "      <td>A1.3</td>\n",
       "      <td>108976</td>\n",
       "      <td>95640</td>\n",
       "      <td>102308</td>\n",
       "      <td>255770000</td>\n",
       "      <td>3</td>\n",
       "      <td>A1</td>\n",
       "      <td>A</td>\n",
       "      <td>1287629</td>\n",
       "      <td>2343931</td>\n",
       "      <td>1815780</td>\n",
       "      <td>4539450000</td>\n",
       "      <td>4283680000</td>\n",
       "      <td>34.051700</td>\n",
       "      <td>10.471434</td>\n",
       "      <td>3.527880</td>\n",
       "      <td>2.348651</td>\n",
       "    </tr>\n",
       "    <tr>\n",
       "      <th>3</th>\n",
       "      <td>A2.1</td>\n",
       "      <td>235</td>\n",
       "      <td>262</td>\n",
       "      <td>249</td>\n",
       "      <td>1167950</td>\n",
       "      <td>1</td>\n",
       "      <td>A2</td>\n",
       "      <td>A</td>\n",
       "      <td>1200</td>\n",
       "      <td>1401</td>\n",
       "      <td>1301</td>\n",
       "      <td>6112350</td>\n",
       "      <td>4944400</td>\n",
       "      <td>1.000000</td>\n",
       "      <td>1.000000</td>\n",
       "      <td>0.000000</td>\n",
       "      <td>0.000000</td>\n",
       "    </tr>\n",
       "    <tr>\n",
       "      <th>4</th>\n",
       "      <td>A2.2</td>\n",
       "      <td>164</td>\n",
       "      <td>182</td>\n",
       "      <td>173</td>\n",
       "      <td>726600</td>\n",
       "      <td>2</td>\n",
       "      <td>A2</td>\n",
       "      <td>A</td>\n",
       "      <td>1100</td>\n",
       "      <td>1397</td>\n",
       "      <td>1249</td>\n",
       "      <td>5243700</td>\n",
       "      <td>4517100</td>\n",
       "      <td>0.913579</td>\n",
       "      <td>0.622116</td>\n",
       "      <td>-0.090385</td>\n",
       "      <td>-0.474629</td>\n",
       "    </tr>\n",
       "  </tbody>\n",
       "</table>\n",
       "</div>"
      ],
      "text/plain": [
       "  saliva_sample_ID  pma_FC_cells_per_ul_r1  pma_FC_cells_per_ul_r2  \\\n",
       "0             A1.1                   11351                   10854   \n",
       "1             A1.2                   27306                   27451   \n",
       "2             A1.3                  108976                   95640   \n",
       "3             A2.1                     235                     262   \n",
       "4             A2.2                     164                     182   \n",
       "\n",
       "   pma_FC_avg_cells_per_ul  pma_FC_avg_cells_5_min  timepoint participant_id  \\\n",
       "0                    11103                24425500          1             A1   \n",
       "1                    27379                49281300          2             A1   \n",
       "2                   102308               255770000          3             A1   \n",
       "3                      249                 1167950          1             A2   \n",
       "4                      173                  726600          2             A2   \n",
       "\n",
       "  Treatment_code  raw_FC_cells_per_ul_r1  raw_FC_cells_per_ul_r2  \\\n",
       "0              A                   66395                   70173   \n",
       "1              A                  106109                  154696   \n",
       "2              A                 1287629                 2343931   \n",
       "3              A                    1200                    1401   \n",
       "4              A                    1100                    1397   \n",
       "\n",
       "   raw_FC_avg_cells_per_ul  raw_FC_avg_cells_5_min  dead_Cell5min  \\\n",
       "0                    68284               150224800      125799300   \n",
       "1                   130403               234724500      185443200   \n",
       "2                  1815780              4539450000     4283680000   \n",
       "3                     1301                 6112350        4944400   \n",
       "4                     1249                 5243700        4517100   \n",
       "\n",
       "   percent_dead_t1  percent_live_t1  log_percent_dead_t1  log_percent_live_t1  \n",
       "0         1.000000         1.000000             0.000000             0.000000  \n",
       "1         1.474119         2.017617             0.388061             0.701917  \n",
       "2        34.051700        10.471434             3.527880             2.348651  \n",
       "3         1.000000         1.000000             0.000000             0.000000  \n",
       "4         0.913579         0.622116            -0.090385            -0.474629  "
      ]
     },
     "execution_count": 14,
     "metadata": {},
     "output_type": "execute_result"
    }
   ],
   "source": [
    "# reformat data for statistical testing\n",
    "dead = df[['saliva_sample_ID','timepoint','participant_id','Treatment_code',\n",
    "           'percent_dead_t1','log_percent_dead_t1']]\n",
    "dead.rename(index=str, columns={'percent_dead_t1':'percent_t1', 'log_percent_dead_t1':'log_percent_t1'}, inplace=True)\n",
    "dead['timepoint_processing'] = dead.timepoint.astype(str) + '_dead'\n",
    "\n",
    "live = df[['saliva_sample_ID','timepoint','participant_id','Treatment_code',\n",
    "           'percent_live_t1','log_percent_live_t1']]\n",
    "live.rename(index=str, columns={'percent_live_t1':'percent_t1', 'log_percent_live_t1':'log_percent_t1'}, inplace=True)\n",
    "live['timepoint_processing'] = live.timepoint.astype(str) + '_live'\n",
    "\n",
    "sf = dead.append(live)\n",
    "df.head()"
   ]
  },
  {
   "cell_type": "code",
   "execution_count": 15,
   "metadata": {},
   "outputs": [],
   "source": [
    "# seperate out groups by treatment code"
   ]
  },
  {
   "cell_type": "code",
   "execution_count": 16,
   "metadata": {},
   "outputs": [],
   "source": [
    "A_ = sf[sf['Treatment_code']=='A']\n",
    "B_ = sf[sf['Treatment_code']=='B']\n",
    "C_ = sf[sf['Treatment_code']=='C']\n",
    "D_ = sf[sf['Treatment_code']=='D']"
   ]
  },
  {
   "cell_type": "markdown",
   "metadata": {},
   "source": [
    "### Water"
   ]
  },
  {
   "cell_type": "code",
   "execution_count": 17,
   "metadata": {},
   "outputs": [
    {
     "data": {
      "text/plain": [
       "1_dead    7\n",
       "1_live    7\n",
       "3_dead    7\n",
       "3_live    7\n",
       "2_live    7\n",
       "2_dead    7\n",
       "Name: timepoint_processing, dtype: int64"
      ]
     },
     "execution_count": 17,
     "metadata": {},
     "output_type": "execute_result"
    }
   ],
   "source": [
    "A_.timepoint_processing.value_counts()"
   ]
  },
  {
   "cell_type": "code",
   "execution_count": 18,
   "metadata": {},
   "outputs": [
    {
     "name": "stdout",
     "output_type": "stream",
     "text": [
      "Multiple Comparison of Means - Tukey HSD, FWER=0.05\n",
      "==================================================\n",
      "group1 group2 meandiff p-adj  lower  upper  reject\n",
      "--------------------------------------------------\n",
      "1_dead 1_live      0.0   0.9   -1.57   1.57  False\n",
      "1_dead 2_dead   0.0842   0.9 -1.4858 1.6542  False\n",
      "1_dead 2_live  -0.0076   0.9 -1.5776 1.5624  False\n",
      "1_dead 3_dead   0.2995   0.9 -1.2705 1.8695  False\n",
      "1_dead 3_live   0.4576   0.9 -1.1124 2.0276  False\n",
      "1_live 2_dead   0.0842   0.9 -1.4858 1.6542  False\n",
      "1_live 2_live  -0.0076   0.9 -1.5776 1.5624  False\n",
      "1_live 3_dead   0.2995   0.9 -1.2705 1.8695  False\n",
      "1_live 3_live   0.4576   0.9 -1.1124 2.0276  False\n",
      "2_dead 2_live  -0.0918   0.9 -1.6618 1.4782  False\n",
      "2_dead 3_dead   0.2153   0.9 -1.3547 1.7853  False\n",
      "2_dead 3_live   0.3734   0.9 -1.1966 1.9434  False\n",
      "2_live 3_dead   0.3071   0.9 -1.2629 1.8771  False\n",
      "2_live 3_live   0.4651   0.9 -1.1048 2.0351  False\n",
      "3_dead 3_live   0.1581   0.9 -1.4119 1.7281  False\n",
      "--------------------------------------------------\n"
     ]
    }
   ],
   "source": [
    "# run one-way ANOVA with Tukey multiple comparison correction HSD\n",
    "mc = MultiComparison(A_['log_percent_t1'], A_['timepoint_processing'])\n",
    "mc_results = mc.tukeyhsd()\n",
    "print(mc_results)"
   ]
  },
  {
   "cell_type": "markdown",
   "metadata": {},
   "source": [
    "### Antiseptic mouthwash"
   ]
  },
  {
   "cell_type": "code",
   "execution_count": 19,
   "metadata": {},
   "outputs": [
    {
     "data": {
      "text/plain": [
       "1_dead    7\n",
       "1_live    7\n",
       "3_dead    7\n",
       "3_live    7\n",
       "2_live    7\n",
       "2_dead    7\n",
       "Name: timepoint_processing, dtype: int64"
      ]
     },
     "execution_count": 19,
     "metadata": {},
     "output_type": "execute_result"
    }
   ],
   "source": [
    "B_.timepoint_processing.value_counts()"
   ]
  },
  {
   "cell_type": "code",
   "execution_count": 20,
   "metadata": {},
   "outputs": [
    {
     "name": "stdout",
     "output_type": "stream",
     "text": [
      "Multiple Comparison of Means - Tukey HSD, FWER=0.05\n",
      "===================================================\n",
      "group1 group2 meandiff p-adj   lower  upper  reject\n",
      "---------------------------------------------------\n",
      "1_dead 1_live      0.0    0.9 -1.0396 1.0396  False\n",
      "1_dead 2_dead   0.5021 0.6726 -0.5375 1.5418  False\n",
      "1_dead 2_live  -0.5119 0.6569 -1.5515 0.5277  False\n",
      "1_dead 3_dead   0.5449  0.604 -0.4947 1.5845  False\n",
      "1_dead 3_live  -0.2335    0.9 -1.2731 0.8061  False\n",
      "1_live 2_dead   0.5021 0.6726 -0.5375 1.5418  False\n",
      "1_live 2_live  -0.5119 0.6569 -1.5515 0.5277  False\n",
      "1_live 3_dead   0.5449  0.604 -0.4947 1.5845  False\n",
      "1_live 3_live  -0.2335    0.9 -1.2731 0.8061  False\n",
      "2_dead 2_live   -1.014 0.0595 -2.0537 0.0256  False\n",
      "2_dead 3_dead   0.0428    0.9 -0.9969 1.0824  False\n",
      "2_dead 3_live  -0.7356  0.296 -1.7752  0.304  False\n",
      "2_live 3_dead   1.0568 0.0445  0.0172 2.0964   True\n",
      "2_live 3_live   0.2784    0.9 -0.7612  1.318  False\n",
      "3_dead 3_live  -0.7784 0.2398  -1.818 0.2612  False\n",
      "---------------------------------------------------\n"
     ]
    }
   ],
   "source": [
    "# run one-way ANOVA with Tukey multiple comparison correction HSD\n",
    "mc = MultiComparison(B_['log_percent_t1'], B_['timepoint_processing'])\n",
    "mc_results = mc.tukeyhsd()\n",
    "print(mc_results)"
   ]
  },
  {
   "cell_type": "markdown",
   "metadata": {},
   "source": [
    "### Alcohol-free mouthwash"
   ]
  },
  {
   "cell_type": "code",
   "execution_count": 21,
   "metadata": {},
   "outputs": [
    {
     "data": {
      "text/plain": [
       "1_dead    7\n",
       "1_live    7\n",
       "3_dead    7\n",
       "3_live    7\n",
       "2_live    7\n",
       "2_dead    7\n",
       "Name: timepoint_processing, dtype: int64"
      ]
     },
     "execution_count": 21,
     "metadata": {},
     "output_type": "execute_result"
    }
   ],
   "source": [
    "C_.timepoint_processing.value_counts()"
   ]
  },
  {
   "cell_type": "code",
   "execution_count": 22,
   "metadata": {},
   "outputs": [
    {
     "name": "stdout",
     "output_type": "stream",
     "text": [
      "Multiple Comparison of Means - Tukey HSD, FWER=0.05 \n",
      "====================================================\n",
      "group1 group2 meandiff p-adj   lower   upper  reject\n",
      "----------------------------------------------------\n",
      "1_dead 1_live      0.0    0.9 -1.6286  1.6286  False\n",
      "1_dead 2_dead   1.3451 0.1556 -0.2835  2.9738  False\n",
      "1_dead 2_live  -3.2797  0.001 -4.9084 -1.6511   True\n",
      "1_dead 3_dead   0.8621 0.5953 -0.7666  2.4907  False\n",
      "1_dead 3_live  -0.5537    0.9 -2.1823  1.0749  False\n",
      "1_live 2_dead   1.3451 0.1556 -0.2835  2.9738  False\n",
      "1_live 2_live  -3.2797  0.001 -4.9084 -1.6511   True\n",
      "1_live 3_dead   0.8621 0.5953 -0.7666  2.4907  False\n",
      "1_live 3_live  -0.5537    0.9 -2.1823  1.0749  False\n",
      "2_dead 2_live  -4.6249  0.001 -6.2535 -2.9963   True\n",
      "2_dead 3_dead  -0.4831    0.9 -2.1117  1.1455  False\n",
      "2_dead 3_live  -1.8988 0.0144 -3.5274 -0.2702   True\n",
      "2_live 3_dead   4.1418  0.001  2.5132  5.7704   True\n",
      "2_live 3_live    2.726  0.001  1.0974  4.3547   True\n",
      "3_dead 3_live  -1.4157 0.1198 -3.0444  0.2129  False\n",
      "----------------------------------------------------\n"
     ]
    }
   ],
   "source": [
    "# run one-way ANOVA with Tukey multiple comparison correction HSD\n",
    "mc = MultiComparison(C_['log_percent_t1'], C_['timepoint_processing'])\n",
    "mc_results = mc.tukeyhsd()\n",
    "print(mc_results)"
   ]
  },
  {
   "cell_type": "markdown",
   "metadata": {},
   "source": [
    "### Soda"
   ]
  },
  {
   "cell_type": "code",
   "execution_count": 23,
   "metadata": {},
   "outputs": [
    {
     "data": {
      "text/plain": [
       "1_dead    7\n",
       "1_live    7\n",
       "3_dead    7\n",
       "3_live    7\n",
       "2_live    7\n",
       "2_dead    7\n",
       "Name: timepoint_processing, dtype: int64"
      ]
     },
     "execution_count": 23,
     "metadata": {},
     "output_type": "execute_result"
    }
   ],
   "source": [
    "D_.timepoint_processing.value_counts()"
   ]
  },
  {
   "cell_type": "code",
   "execution_count": 24,
   "metadata": {},
   "outputs": [
    {
     "name": "stdout",
     "output_type": "stream",
     "text": [
      "Multiple Comparison of Means - Tukey HSD, FWER=0.05\n",
      "===================================================\n",
      "group1 group2 meandiff p-adj   lower  upper  reject\n",
      "---------------------------------------------------\n",
      "1_dead 1_live      0.0    0.9  -1.634  1.634  False\n",
      "1_dead 2_dead  -0.5285    0.9 -2.1625 1.1055  False\n",
      "1_dead 2_live  -0.4527    0.9 -2.0867 1.1813  False\n",
      "1_dead 3_dead   0.5008    0.9 -1.1332 2.1348  False\n",
      "1_dead 3_live   0.2305    0.9 -1.4035 1.8645  False\n",
      "1_live 2_dead  -0.5285    0.9 -2.1625 1.1055  False\n",
      "1_live 2_live  -0.4527    0.9 -2.0867 1.1813  False\n",
      "1_live 3_dead   0.5008    0.9 -1.1332 2.1348  False\n",
      "1_live 3_live   0.2305    0.9 -1.4035 1.8645  False\n",
      "2_dead 2_live   0.0758    0.9 -1.5582 1.7098  False\n",
      "2_dead 3_dead   1.0293 0.4233 -0.6046 2.6633  False\n",
      "2_dead 3_live    0.759 0.7035  -0.875  2.393  False\n",
      "2_live 3_dead   0.9535 0.5048 -0.6805 2.5875  False\n",
      "2_live 3_live   0.6832  0.781 -0.9508 2.3172  False\n",
      "3_dead 3_live  -0.2703    0.9 -1.9043 1.3636  False\n",
      "---------------------------------------------------\n"
     ]
    }
   ],
   "source": [
    "# run one-way ANOVA with Tukey multiple comparison correction HSD\n",
    "mc = MultiComparison(D_['log_percent_t1'], D_['timepoint_processing'])\n",
    "mc_results = mc.tukeyhsd()\n",
    "print(mc_results)"
   ]
  },
  {
   "cell_type": "code",
   "execution_count": null,
   "metadata": {},
   "outputs": [],
   "source": []
  },
  {
   "cell_type": "code",
   "execution_count": null,
   "metadata": {},
   "outputs": [],
   "source": []
  }
 ],
 "metadata": {
  "kernelspec": {
   "display_name": "Python 3",
   "language": "python",
   "name": "python3"
  },
  "language_info": {
   "codemirror_mode": {
    "name": "ipython",
    "version": 3
   },
   "file_extension": ".py",
   "mimetype": "text/x-python",
   "name": "python",
   "nbconvert_exporter": "python",
   "pygments_lexer": "ipython3",
   "version": "3.6.7"
  }
 },
 "nbformat": 4,
 "nbformat_minor": 2
}
