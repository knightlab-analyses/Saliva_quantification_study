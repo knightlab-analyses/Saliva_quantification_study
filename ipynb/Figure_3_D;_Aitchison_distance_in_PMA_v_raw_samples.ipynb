{
 "cells": [
  {
   "cell_type": "code",
   "execution_count": 1,
   "metadata": {},
   "outputs": [],
   "source": [
    "import numpy as np\n",
    "import pandas as pd\n",
    "import seaborn as sns\n",
    "import scipy\n",
    "from scipy import stats\n",
    "import matplotlib.pyplot as plt\n",
    "%matplotlib inline\n",
    "from scipy.stats import ttest_ind\n",
    "from statsmodels.stats.multicomp import pairwise_tukeyhsd\n",
    "from statsmodels.stats.multicomp import MultiComparison"
   ]
  },
  {
   "cell_type": "markdown",
   "metadata": {},
   "source": [
    "## Import data"
   ]
  },
  {
   "cell_type": "code",
   "execution_count": 2,
   "metadata": {},
   "outputs": [],
   "source": [
    "#import Aitchison distance matrix \n",
    "dm = pd.read_csv('../data/SMDS_aitchison_distance_matrix.tsv', sep='\\t', index_col=0)"
   ]
  },
  {
   "cell_type": "markdown",
   "metadata": {},
   "source": [
    "## Reformat distance matrix"
   ]
  },
  {
   "cell_type": "code",
   "execution_count": 3,
   "metadata": {},
   "outputs": [],
   "source": [
    "#melt distance matrix and convert to pandas dataframe \n",
    "meltaitch = dm.unstack()\n",
    "df = pd.DataFrame(meltaitch)\n",
    "df.reset_index(inplace=True)\n",
    "df.columns=['col1','col2','distance']\n",
    "\n",
    "#remove self-self samples (zero distance)\n",
    "df = df[df['col1']!=df['col2']]\n",
    "#remove duplicates (since it is a symmetrical distance matrix)\n",
    "df['check_string'] = df.apply(lambda row: ''.join(sorted([row['col1'], row['col2']])), axis=1)\n",
    "df = df.drop_duplicates('check_string')"
   ]
  },
  {
   "cell_type": "code",
   "execution_count": 4,
   "metadata": {
    "scrolled": true
   },
   "outputs": [
    {
     "data": {
      "text/html": [
       "<div>\n",
       "<style scoped>\n",
       "    .dataframe tbody tr th:only-of-type {\n",
       "        vertical-align: middle;\n",
       "    }\n",
       "\n",
       "    .dataframe tbody tr th {\n",
       "        vertical-align: top;\n",
       "    }\n",
       "\n",
       "    .dataframe thead th {\n",
       "        text-align: right;\n",
       "    }\n",
       "</style>\n",
       "<table border=\"1\" class=\"dataframe\">\n",
       "  <thead>\n",
       "    <tr style=\"text-align: right;\">\n",
       "      <th></th>\n",
       "      <th>samp</th>\n",
       "      <th>tx</th>\n",
       "      <th>samp2</th>\n",
       "      <th>tx2</th>\n",
       "      <th>col1</th>\n",
       "      <th>col2</th>\n",
       "      <th>distance</th>\n",
       "      <th>check_string</th>\n",
       "      <th>HostSubject1</th>\n",
       "      <th>HostSubject2</th>\n",
       "    </tr>\n",
       "  </thead>\n",
       "  <tbody>\n",
       "    <tr>\n",
       "      <th>1</th>\n",
       "      <td>A1</td>\n",
       "      <td>lyPMA</td>\n",
       "      <td>A4</td>\n",
       "      <td>lyPMA</td>\n",
       "      <td>A1.lyPMA</td>\n",
       "      <td>A4.lyPMA</td>\n",
       "      <td>34.013113</td>\n",
       "      <td>A1.lyPMAA4.lyPMA</td>\n",
       "      <td>A</td>\n",
       "      <td>A</td>\n",
       "    </tr>\n",
       "    <tr>\n",
       "      <th>2</th>\n",
       "      <td>A1</td>\n",
       "      <td>lyPMA</td>\n",
       "      <td>A1</td>\n",
       "      <td>raw</td>\n",
       "      <td>A1.lyPMA</td>\n",
       "      <td>A1.raw</td>\n",
       "      <td>14.836186</td>\n",
       "      <td>A1.lyPMAA1.raw</td>\n",
       "      <td>A</td>\n",
       "      <td>A</td>\n",
       "    </tr>\n",
       "    <tr>\n",
       "      <th>3</th>\n",
       "      <td>A1</td>\n",
       "      <td>lyPMA</td>\n",
       "      <td>A2</td>\n",
       "      <td>lyPMA</td>\n",
       "      <td>A1.lyPMA</td>\n",
       "      <td>A2.lyPMA</td>\n",
       "      <td>29.424909</td>\n",
       "      <td>A1.lyPMAA2.lyPMA</td>\n",
       "      <td>A</td>\n",
       "      <td>A</td>\n",
       "    </tr>\n",
       "    <tr>\n",
       "      <th>4</th>\n",
       "      <td>A1</td>\n",
       "      <td>lyPMA</td>\n",
       "      <td>A2</td>\n",
       "      <td>raw</td>\n",
       "      <td>A1.lyPMA</td>\n",
       "      <td>A2.raw</td>\n",
       "      <td>29.983539</td>\n",
       "      <td>A1.lyPMAA2.raw</td>\n",
       "      <td>A</td>\n",
       "      <td>A</td>\n",
       "    </tr>\n",
       "    <tr>\n",
       "      <th>5</th>\n",
       "      <td>A1</td>\n",
       "      <td>lyPMA</td>\n",
       "      <td>A3</td>\n",
       "      <td>lyPMA</td>\n",
       "      <td>A1.lyPMA</td>\n",
       "      <td>A3.lyPMA</td>\n",
       "      <td>22.638635</td>\n",
       "      <td>A1.lyPMAA3.lyPMA</td>\n",
       "      <td>A</td>\n",
       "      <td>A</td>\n",
       "    </tr>\n",
       "  </tbody>\n",
       "</table>\n",
       "</div>"
      ],
      "text/plain": [
       "  samp     tx samp2    tx2      col1      col2   distance      check_string  \\\n",
       "1   A1  lyPMA    A4  lyPMA  A1.lyPMA  A4.lyPMA  34.013113  A1.lyPMAA4.lyPMA   \n",
       "2   A1  lyPMA    A1    raw  A1.lyPMA    A1.raw  14.836186    A1.lyPMAA1.raw   \n",
       "3   A1  lyPMA    A2  lyPMA  A1.lyPMA  A2.lyPMA  29.424909  A1.lyPMAA2.lyPMA   \n",
       "4   A1  lyPMA    A2    raw  A1.lyPMA    A2.raw  29.983539    A1.lyPMAA2.raw   \n",
       "5   A1  lyPMA    A3  lyPMA  A1.lyPMA  A3.lyPMA  22.638635  A1.lyPMAA3.lyPMA   \n",
       "\n",
       "  HostSubject1 HostSubject2  \n",
       "1            A            A  \n",
       "2            A            A  \n",
       "3            A            A  \n",
       "4            A            A  \n",
       "5            A            A  "
      ]
     },
     "execution_count": 4,
     "metadata": {},
     "output_type": "execute_result"
    }
   ],
   "source": [
    "#split sample names to break down comparisons, and merge into one dataframe\n",
    "df1 = df.col1.str.split('.',expand=True)\n",
    "df1.columns=['samp','tx']\n",
    "\n",
    "df2 = df.col2.str.split('.',expand=True)\n",
    "df2.columns=['samp2','tx2']\n",
    "\n",
    "dff = pd.concat([df1, df2, df], axis=1)\n",
    "\n",
    "#add in HostSubject ID\n",
    "dff['HostSubject1'] = dff['samp'].str[0:1]\n",
    "dff['HostSubject2'] = dff['samp2'].str[0:1]\n",
    "dff.head()"
   ]
  },
  {
   "cell_type": "markdown",
   "metadata": {},
   "source": [
    "### raw and PMA-treated samples from the same saliva sample were more similar than samples from the same person processed the same way over time"
   ]
  },
  {
   "cell_type": "code",
   "execution_count": 5,
   "metadata": {},
   "outputs": [],
   "source": [
    "# create function to label different distance types\n",
    "# id distances that are between the same saliva sample processed different ways (i.e. PMA vs raw)\n",
    "# and distances that are between the same person over time processed the same way\n",
    "def f(row):\n",
    "    if (row['samp']==row['samp2']):\n",
    "           val = \"same_sample_diff_processing\"\n",
    "    elif ((row['HostSubject1']==row['HostSubject2'])&\n",
    "         (row['tx']==row['tx2'])):\n",
    "            val = 'same_preson_over_time_same_processing'\n",
    "    else:\n",
    "        val = \"something_else\"\n",
    "    return val\n",
    "\n",
    "dff['PMA_distance_cat'] = dff.apply(f, axis=1)"
   ]
  },
  {
   "cell_type": "code",
   "execution_count": 6,
   "metadata": {},
   "outputs": [
    {
     "data": {
      "text/plain": [
       "KruskalResult(statistic=58.393831576971024, pvalue=2.1456268407204648e-14)"
      ]
     },
     "execution_count": 6,
     "metadata": {},
     "output_type": "execute_result"
    }
   ],
   "source": [
    "stats.kruskal((dff[dff['PMA_distance_cat']=='same_sample_diff_processing']['distance']),\n",
    "              (dff[dff['PMA_distance_cat']=='same_preson_over_time_same_processing']['distance']))\n",
    "              "
   ]
  },
  {
   "cell_type": "markdown",
   "metadata": {},
   "source": [
    "## Plot Figure 3D"
   ]
  },
  {
   "cell_type": "code",
   "execution_count": 7,
   "metadata": {},
   "outputs": [],
   "source": [
    "# create function to label different distance types\n",
    "# id distances that are between samples from the same person processed the same way\n",
    "def f(row):\n",
    "    if (row['HostSubject1']==row['HostSubject2'])&(row['samp']!=row['samp2'])&(row['tx']==row['tx2']):\n",
    "        val = \"same_person_same_method_over_time\"\n",
    "    else:\n",
    "        val = \"something_else\"\n",
    "    return val\n",
    "\n",
    "dff['distance_cat'] = dff.apply(f, axis=1)"
   ]
  },
  {
   "cell_type": "code",
   "execution_count": 8,
   "metadata": {},
   "outputs": [
    {
     "data": {
      "text/plain": [
       "something_else                       14712\n",
       "same_person_same_method_over_time      688\n",
       "Name: distance_cat, dtype: int64"
      ]
     },
     "execution_count": 8,
     "metadata": {},
     "output_type": "execute_result"
    }
   ],
   "source": [
    "# print number of samples that got categorized as within person\n",
    "dff['distance_cat'].value_counts()"
   ]
  },
  {
   "cell_type": "code",
   "execution_count": 9,
   "metadata": {},
   "outputs": [
    {
     "data": {
      "text/plain": [
       "(688, 12)"
      ]
     },
     "execution_count": 9,
     "metadata": {},
     "output_type": "execute_result"
    }
   ],
   "source": [
    "# subset out distances between timepoints from same person\n",
    "spsm = dff[dff['distance_cat']=='same_person_same_method_over_time']\n",
    "spsm.shape"
   ]
  },
  {
   "cell_type": "code",
   "execution_count": 10,
   "metadata": {},
   "outputs": [],
   "source": [
    "# reorder spsm so raw samples are shown first when plotting\n",
    "spsm = spsm.sort_values(by=['tx'], ascending=False)"
   ]
  },
  {
   "cell_type": "code",
   "execution_count": 12,
   "metadata": {},
   "outputs": [
    {
     "data": {
      "text/plain": [
       "<matplotlib.legend.Legend at 0x11a093278>"
      ]
     },
     "execution_count": 12,
     "metadata": {},
     "output_type": "execute_result"
    },
    {
     "data": {
      "image/png": "[encoded data removed]",
      "text/plain": [
       "<Figure size 540x360 with 1 Axes>"
      ]
     },
     "metadata": {},
     "output_type": "display_data"
    }
   ],
   "source": [
    "order=['A','B','C','D','E','F','G','H','I','J']\n",
    "sns.set_style('ticks')\n",
    "sns.set_context('talk')\n",
    "f, ax = plt.subplots()\n",
    "f.set_size_inches(7.5,5)\n",
    "\n",
    "ax = sns.boxplot(x='HostSubject1', y='distance', hue='tx', data=spsm, palette=['#d8b365','#5ab4ac'], notch=True, order=order)\n",
    "ax = sns.swarmplot(x='HostSubject1', y='distance', hue='tx', data=spsm, size=3, palette=['#000000','#000000'],dodge=True, alpha=0.2, order=order)\n",
    "ax.set(ylabel='Aitchison distance')\n",
    "ax.set(xlabel='participant')\n",
    "ax.set(ylim=(10,50))\n",
    "plt.legend(bbox_to_anchor=(1.05, 1), loc=2, borderaxespad=0.)\n",
    "\n",
    "#f.savefig('/Users/lisamarotz/Dropbox/Lisa_stuff/Thesis/publications/Saliva_quant/Figures/Figure3_dynamics/Figure3D_aitchison_distance_processing.pdf',\n",
    "#            bbox_inches='tight')"
   ]
  },
  {
   "cell_type": "markdown",
   "metadata": {},
   "source": [
    "## Run Kruskal-Wallis test between raw and PMA sample distances per participant"
   ]
  },
  {
   "cell_type": "code",
   "execution_count": 15,
   "metadata": {},
   "outputs": [
    {
     "name": "stdout",
     "output_type": "stream",
     "text": [
      "A KruskalResult(statistic=0.3299086757990608, pvalue=0.5657128680189176)\n",
      "B KruskalResult(statistic=4.4685821697099755, pvalue=0.03452362820326721)\n",
      "C KruskalResult(statistic=9.453196347031962, pvalue=0.002107814604975002)\n",
      "D KruskalResult(statistic=4.627219685438831, pvalue=0.031468518906791865)\n",
      "E KruskalResult(statistic=9.246575342465746, pvalue=0.002359362402710825)\n",
      "F KruskalResult(statistic=2.9304921359715763, pvalue=0.0869209923753656)\n",
      "G KruskalResult(statistic=4.128893662728245, pvalue=0.04215690282781882)\n",
      "H KruskalResult(statistic=5.917808219178056, pvalue=0.014988592847887113)\n",
      "I KruskalResult(statistic=2.41552511415523, pvalue=0.1201376784394071)\n",
      "J KruskalResult(statistic=7.366945712836099, pvalue=0.006643367632449267)\n"
     ]
    }
   ],
   "source": [
    "parts = ['A','B','C','D','E','F','G','H','I','J']\n",
    "for i in parts:\n",
    "    print(i, stats.kruskal((spsm[(spsm['HostSubject1']==i)&(spsm['tx']=='raw')]['distance']),\n",
    "                             (spsm[(spsm['HostSubject1']==i)&(spsm['tx']=='lyPMA')]['distance'])))"
   ]
  },
  {
   "cell_type": "code",
   "execution_count": 17,
   "metadata": {},
   "outputs": [
    {
     "name": "stdout",
     "output_type": "stream",
     "text": [
      "A (0.3299086757990608, 0.5584415584415584)\n",
      "B (4.4685821697099755, 0.03796203796203796)\n",
      "C (9.453196347031962, 0.002997002997002997)\n",
      "D (4.627219685438831, 0.03696303696303696)\n",
      "E (9.246575342465746, 0.003996003996003996)\n",
      "F (2.9304921359715763, 0.08791208791208792)\n",
      "G (4.128893662728245, 0.03896103896103896)\n",
      "H (5.917808219178056, 0.017982017982017984)\n",
      "I (2.41552511415523, 0.11688311688311688)\n",
      "J (7.366945712836099, 0.005994005994005994)\n"
     ]
    }
   ],
   "source": [
    "# Same data, run permutation test\n",
    "from perm_test import perm_kruskal_test\n",
    "parts = ['A','B','C','D','E','F','G','H','I','J']\n",
    "for i in parts:\n",
    "    print(i, perm_kruskal_test((spsm[(spsm['HostSubject1']==i)&(spsm['tx']=='raw')]['distance']),\n",
    "                               (spsm[(spsm['HostSubject1']==i)&(spsm['tx']=='lyPMA')]['distance'])))"
   ]
  },
  {
   "cell_type": "code",
   "execution_count": null,
   "metadata": {},
   "outputs": [],
   "source": []
  }
 ],
 "metadata": {
  "kernelspec": {
   "display_name": "Python 3",
   "language": "python",
   "name": "python3"
  },
  "language_info": {
   "codemirror_mode": {
    "name": "ipython",
    "version": 3
   },
   "file_extension": ".py",
   "mimetype": "text/x-python",
   "name": "python",
   "nbconvert_exporter": "python",
   "pygments_lexer": "ipython3",
   "version": "3.6.7"
  }
 },
 "nbformat": 4,
 "nbformat_minor": 2
}
